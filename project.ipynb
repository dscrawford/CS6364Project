{
 "cells": [
  {
   "cell_type": "code",
   "execution_count": 1,
   "outputs": [],
   "source": [
    "import pandas as pd\n",
    "import numpy as np\n",
    "import torch\n",
    "from torch import nn, optim\n",
    "from tqdm import tqdm\n",
    "from sklearn.metrics import roc_curve, auc"
   ],
   "metadata": {
    "collapsed": false,
    "pycharm": {
     "name": "#%%\n"
    }
   }
  },
  {
   "cell_type": "code",
   "execution_count": 2,
   "outputs": [],
   "source": [
    "# File\n",
    "# dir = '../input/riiid-test-answer-prediction/'\n",
    "dir = './'\n",
    "FEATURE_FOLDER_PATH = dir + 'riiid_features/'\n",
    "\n",
    "# Hyper parameters\n",
    "BATCH_SIZE = 256\n",
    "LEARNING_RATE = 0.00001\n",
    "WEIGHT_DECAY = 5e-5\n",
    "\n",
    "#\n",
    "NROWS = 30000000"
   ],
   "metadata": {
    "collapsed": false,
    "pycharm": {
     "name": "#%%\n"
    }
   }
  },
  {
   "cell_type": "code",
   "execution_count": 3,
   "outputs": [],
   "source": [
    "def jagged_to_fixed_matrix(x, n , fill_value):\n",
    "    a = np.full((len(x), n), fill_value)\n",
    "    for i,xi in enumerate(x):\n",
    "        end = min(n, len(xi))\n",
    "        a[i][0:end] = [xi[j] for j in range(end)]\n",
    "    return a\n",
    "\n",
    "def create_batch_iter(n, skip):\n",
    "    a = list(range(0, n, skip)) + [n]\n",
    "    return [(a[i], a[i + 1]) for i in range(len(a) - 1)]\n",
    "\n",
    "def jagged_to_fixed_matrix(x, n , fill_value):\n",
    "    a = np.full((len(x), n), fill_value)\n",
    "    for i,xi in enumerate(x):\n",
    "        end = min(n, len(xi))\n",
    "        a[i][0:end] = [xi[j] for j in range(end)]\n",
    "    return a\n",
    "\n",
    "def create_batch_iter(n, skip):\n",
    "    a = list(range(0, n, skip)) + [n]\n",
    "    return [(a[i], a[i + 1]) for i in range(len(a) - 1)]\n",
    "\n",
    "class StudentKnowledge:\n",
    "    def __init__(self, num_tags):\n",
    "        self.lectures = []\n",
    "        self.lecture_timestamp = []\n",
    "        self.questions = []\n",
    "        self.question_timestamp = []\n",
    "        self.student_knowledge = set()\n",
    "        self.number_of_events = 0\n",
    "\n",
    "    def add_lecture(self, lecture_tag, lecture_timestamp):\n",
    "        self.lectures.append(lecture_tag)\n",
    "        self.lecture_timestamp.append(lecture_timestamp)\n",
    "        self.student_knowledge.add(lecture_tag)\n",
    "        self.number_of_events += 1\n",
    "\n",
    "    def add_question(self, question_answered_right, question_timestamp, question_tags):\n",
    "        self.questions.append(question_answered_right)\n",
    "        self.question_timestamp.append(question_timestamp)\n",
    "        if question_answered_right:\n",
    "            for tag in question_tags:\n",
    "                self.student_knowledge.add(tag)\n",
    "        self.number_of_events += 1\n",
    "\n",
    "    def get_features(self):\n",
    "        return np.fromiter(self.student_knowledge, int, len(self.student_knowledge))\n",
    "\n",
    "class StudentDataset:\n",
    "    def __init__(self, lectures, questions, train_df, tags_len=30, additional_features=None):\n",
    "        self.t_index = {col: i for i, col in enumerate(train_df.columns)}\n",
    "        additional_features = [] if additional_features is None else additional_features\n",
    "        self.additional_features_index = [t_index[feature_name] for feature_name in additional_features]\n",
    "        self.students = {}\n",
    "        self.lecture_tags = {row['lecture_id']: row['tag'] for _, row in lectures.iterrows()}\n",
    "        self.question_tags = {row['question_id']: row['tags'] for _, row in questions.iterrows()}\n",
    "        squestions = train_df[train_df['content_type_id'] == 0]\n",
    "        self.tag_means = {}\n",
    "        for i, question_ids in enumerate(questions_df[['question_id', 'tags']].explode('tags').groupby('tags').apply(lambda x: set(x['question_id']))):\n",
    "            self.tag_means[i] = squestions[squestions['content_id'].isin(question_ids)]['answered_correctly'].mean()\n",
    "        question_means = train_df[train_df['content_type_id'] == 0].groupby('content_id')['answered_correctly'].mean()\n",
    "        self.question_means = {qi: m for qi, m in zip(question_means.index, question_means)}\n",
    "        a = questions['tags'].to_numpy()\n",
    "        self.num_tags = len(np.unique([x for b in a for x in b]))\n",
    "        self.tags_len = tags_len\n",
    "    def read(self, row):\n",
    "        student_id = row[self.t_index['user_id']]\n",
    "        content_type_id = row[self.t_index['content_type_id']]\n",
    "        content_id = row[self.t_index['content_id']]\n",
    "        timestamp = row[self.t_index['timestamp']]\n",
    "        answered_right = row[self.t_index['answered_correctly']]\n",
    "        if student_id not in self.students:\n",
    "            self.students[student_id] = StudentKnowledge(self.num_tags)\n",
    "        if content_type_id == 0:\n",
    "            self.students[student_id].add_question(answered_right, timestamp, self.question_tags[content_id])\n",
    "        else:\n",
    "            self.students[student_id].add_lecture(self.lecture_tags[content_id], timestamp)\n",
    "\n",
    "    # Must receive question rows, lectures not valid\n",
    "    def get_features(self, rows):\n",
    "        for row in rows:\n",
    "            self.read(row)\n",
    "        rows = rows[rows[:, t_index['content_type_id']] == 0]\n",
    "        user_ids = rows[:,self.t_index['user_id']]\n",
    "        question_ids = rows[:, self.t_index['content_id']]\n",
    "        # Additional Features Here\n",
    "        student_no_events = [[self.students[user_id].number_of_events] for user_id in user_ids]\n",
    "        tag_difficulties = [[sum([self.tag_means[tag] for tag in self.question_tags[question_id]]) / len(self.question_tags[question_id])] \\\n",
    "                                 for question_id in question_ids]\n",
    "        question_difficulties = [[self.question_means[question_id]] for question_id in question_ids]\n",
    "        # Create a one-hot vector for question tags\n",
    "        question_tags_index = [self.question_tags[question_id] for question_id in question_ids]\n",
    "        question_tags = np.zeros((len(rows), self.num_tags))\n",
    "        for i in range(len(rows)):\n",
    "            question_tags[i,question_tags_index[i]] = 1\n",
    "        # Receive features from student knowledge\n",
    "        student_tags = jagged_to_fixed_matrix([self.students[user_id].get_features() for user_id in user_ids], self.tags_len, self.num_tags)\n",
    "        return student_tags, \\\n",
    "               np.hstack([question_tags,\n",
    "                          student_no_events,\n",
    "                          tag_difficulties,\n",
    "                          question_difficulties,\n",
    "                          rows[:, self.additional_features_index]]).astype(float), \\\n",
    "               rows[:, t_index['answered_correctly']]\n",
    "    def reset(self):\n",
    "        self.students = {}\n",
    "class Network(nn.Module):\n",
    "  def __init__(self, num_embeddings, extra_input_dim, hidden_1, hidden_2, embedding_dim=20):\n",
    "    super().__init__()\n",
    "    self.embedding = nn.Embedding(num_embeddings=num_embeddings, embedding_dim=embedding_dim)\n",
    "    self.layers = nn.ModuleList([\n",
    "        nn.Linear(extra_input_dim + embedding_dim, hidden_1, bias=False),\n",
    "        nn.BatchNorm1d(hidden_1),\n",
    "        nn.ReLU(),\n",
    "        nn.Linear(hidden_1, hidden_2, bias=False),\n",
    "        nn.BatchNorm1d(hidden_2),\n",
    "        nn.ReLU(),\n",
    "        nn.Linear(hidden_2, 1)\n",
    "    ])\n",
    "  def forward(self, student_indices, features):\n",
    "    k = torch.sum(self.embedding(student_indices), dim=1)\n",
    "    y = torch.cat((k, features), dim=1)\n",
    "    for layer in self.layers:\n",
    "        y = layer(y)\n",
    "    return y"
   ],
   "metadata": {
    "collapsed": false,
    "pycharm": {
     "name": "#%%\n"
    }
   }
  },
  {
   "cell_type": "code",
   "execution_count": 4,
   "outputs": [],
   "source": [
    "# Read large datasets: https://www.kaggle.com/rohanrao/tutorial-on-reading-large-datasets\n",
    "train_dtypes = {\n",
    "    \"row_id\": \"int64\",\n",
    "    \"timestamp\": \"int64\",\n",
    "    \"user_id\": \"int32\",\n",
    "    \"content_id\": \"int16\",\n",
    "    \"content_type_id\": \"boolean\",\n",
    "    \"task_container_id\": \"int16\",\n",
    "    \"user_answer\": \"int8\",\n",
    "    \"answered_correctly\": \"int8\",\n",
    "    \"prior_question_elapsed_time\": \"float32\",\n",
    "    \"prior_question_had_explanation\": \"boolean\"\n",
    "}\n",
    "\n",
    "# why we removed columns:\n",
    "#   row_id: redundant\n",
    "#   task_container_id: tells you what container this question is in\n",
    "#       the max container size is 5 so not really significant\n",
    "#   user_answer: doesnt really affect if the answer is correct\n",
    "#   prior_question_had_explanation: majority of learning (we assume) will be done from lectures, not answer explanations\n",
    "#\n",
    "\n",
    "req_cols = ['timestamp', 'user_id', 'content_id', 'content_type_id', 'answered_correctly', 'prior_question_elapsed_time',\n",
    "            'prior_question_had_explanation']\n",
    "\n",
    "# function to convert the milliseconds to seconds at load time\n",
    "# messes with the dtypes above and doesn't really save time so it is commented (see converters)\n",
    "def mil_to_sec(val):\n",
    "    if val == '':\n",
    "        return np.NaN\n",
    "    return round(int(val)/1000)\n",
    "\n",
    "train_columns = pd.read_csv(dir + 'train.csv', usecols=req_cols, nrows=1).columns\n",
    "t_index = {col: i for (i, col) in enumerate(train_columns)}\n",
    "full = pd.read_csv(dir + 'train.csv', usecols=req_cols, dtype=train_dtypes,\n",
    "                       # converters={'timestamp': mil_to_sec,\n",
    "                       #             'prior_question_elapsed_time': mil_to_sec},\n",
    "                       nrows=NROWS).sort_values(by='timestamp').reset_index(drop=True)\n",
    "# the following lines are kinda cheating since we don't actually have all the data at once\n",
    "# train_df = raw_df[raw_df['content_type_id'] == 0]\n",
    "# lecture_events_df = raw_df[raw_df['content_type_id'] == 1]\n",
    "\n",
    "questions_df = pd.read_csv(dir + 'questions.csv')\n",
    "questions_df['tags'] = questions_df['tags'].apply(lambda x: [int(i) for i in str(x).split() if i != 'nan'])\n",
    "lectures_df = pd.read_csv(dir + 'lectures.csv')\n",
    "example_test_df = pd.read_csv(dir + 'example_test.csv')\n",
    "\n",
    "squestions = full[full['content_type_id'] == 0].reset_index()\n",
    "slectures  = full[full['content_type_id'] == 1].reset_index()"
   ],
   "metadata": {
    "collapsed": false,
    "pycharm": {
     "name": "#%%\n"
    }
   }
  },
  {
   "cell_type": "code",
   "execution_count": 5,
   "outputs": [],
   "source": [
    "student_dataset = StudentDataset(lectures_df, questions_df, full, tags_len=100,\n",
    "                                 additional_features=['timestamp', 'prior_question_elapsed_time', 'prior_question_had_explanation'])"
   ],
   "metadata": {
    "collapsed": false,
    "pycharm": {
     "name": "#%%\n"
    }
   }
  },
  {
   "cell_type": "code",
   "execution_count": 6,
   "outputs": [],
   "source": [
    "###\n",
    "### DATA EXPLORATION\n",
    "###\n",
    "\n",
    "import matplotlib.pyplot as plt"
   ],
   "metadata": {
    "collapsed": false,
    "pycharm": {
     "name": "#%%\n"
    }
   }
  },
  {
   "cell_type": "code",
   "execution_count": 7,
   "outputs": [
    {
     "name": "stdout",
     "output_type": "stream",
     "text": [
      "Average Answer Performance:  65.76468151884538\n"
     ]
    }
   ],
   "source": [
    "print('Average Answer Performance: ', squestions['answered_correctly'].mean() * 100)"
   ],
   "metadata": {
    "collapsed": false,
    "pycharm": {
     "name": "#%%\n"
    }
   }
  },
  {
   "cell_type": "code",
   "execution_count": 8,
   "outputs": [
    {
     "data": {
      "text/plain": "<Figure size 432x288 with 1 Axes>",
      "image/png": "[encoded data removed]"
     },
     "metadata": {
      "needs_background": "light"
     },
     "output_type": "display_data"
    }
   ],
   "source": [
    "lecture_student_mean = squestions[squestions['user_id'].isin(slectures['user_id'].unique())]['answered_correctly'].mean() * 100\n",
    "no_lecture_student_mean = squestions[~squestions['user_id'].isin(slectures['user_id'].unique())]['answered_correctly'].mean() * 100\n",
    "\n",
    "plt.bar(['Students who took Lectures', 'Students who did not take Lectures'],[lecture_student_mean, no_lecture_student_mean])\n",
    "plt.title('Performance comparison of students who took lectures vs did not')\n",
    "plt.ylabel('Percent Score')\n",
    "plt.show()"
   ],
   "metadata": {
    "collapsed": false,
    "pycharm": {
     "name": "#%%\n"
    }
   }
  },
  {
   "cell_type": "code",
   "execution_count": 9,
   "outputs": [
    {
     "data": {
      "text/plain": "<Figure size 432x288 with 1 Axes>",
      "image/png": "[encoded data removed]"
     },
     "metadata": {
      "needs_background": "light"
     },
     "output_type": "display_data"
    },
    {
     "data": {
      "text/plain": "<Figure size 432x288 with 1 Axes>",
      "image/png": "[encoded data removed]"
     },
     "metadata": {
      "needs_background": "light"
     },
     "output_type": "display_data"
    }
   ],
   "source": [
    "tags, tag_means = zip(*student_dataset.tag_means.items())\n",
    "\n",
    "\n",
    "plt.hist(tag_means, bins=10)\n",
    "plt.title('Question Tag Average Performance Histogram')\n",
    "plt.xlabel('Percent Score Among Students')\n",
    "plt.ylabel('Bin Size')\n",
    "plt.show()\n",
    "\n",
    "plt.scatter(np.arange(0,len(tag_means)), np.sort(tag_means))\n",
    "plt.gca().xaxis.set_visible(False)\n",
    "plt.title('Tags Ordered By Average Student Performance on Tags')\n",
    "plt.ylabel('Percent Score Among Students')\n",
    "\n",
    "del tag_means"
   ],
   "metadata": {
    "collapsed": false,
    "pycharm": {
     "name": "#%%\n"
    }
   }
  },
  {
   "cell_type": "code",
   "execution_count": 10,
   "outputs": [
    {
     "data": {
      "text/plain": "Text(0.5, 1.0, 'Student Relative Timestamp Histogram')"
     },
     "execution_count": 10,
     "metadata": {},
     "output_type": "execute_result"
    },
    {
     "data": {
      "text/plain": "<Figure size 432x288 with 1 Axes>",
      "image/png": "[encoded data removed]"
     },
     "metadata": {
      "needs_background": "light"
     },
     "output_type": "display_data"
    }
   ],
   "source": [
    "plt.hist(full['timestamp'], bins=30)\n",
    "plt.title('Student Relative Timestamp Histogram')"
   ],
   "metadata": {
    "collapsed": false,
    "pycharm": {
     "name": "#%%\n"
    }
   }
  },
  {
   "cell_type": "code",
   "execution_count": 11,
   "outputs": [
    {
     "data": {
      "text/plain": "<Figure size 432x288 with 1 Axes>",
      "image/png": "[encoded data removed]"
     },
     "metadata": {
      "needs_background": "light"
     },
     "output_type": "display_data"
    }
   ],
   "source": [
    "squestions['timestamp_int'] = squestions['timestamp'] // 1000 // 60 // 60 // 24 // 7\n",
    "grp = squestions.groupby('timestamp_int')['answered_correctly'].mean() * 100\n",
    "squestions = squestions.drop(columns='timestamp_int')\n",
    "plt.scatter(grp.index, grp)\n",
    "plt.title('Performance Given Number of Weeks Put In')\n",
    "plt.xlabel('Number of weeks')\n",
    "plt.ylabel('Percent Score')\n",
    "\n",
    "del grp"
   ],
   "metadata": {
    "collapsed": false,
    "pycharm": {
     "name": "#%%\n"
    }
   }
  },
  {
   "cell_type": "code",
   "execution_count": 12,
   "outputs": [
    {
     "data": {
      "text/plain": "<Figure size 432x288 with 1 Axes>",
      "image/png": "[encoded data removed]"
     },
     "metadata": {
      "needs_background": "light"
     },
     "output_type": "display_data"
    }
   ],
   "source": [
    "activity_grp = full.groupby(['user_id']).agg({'user_id': 'count', 'answered_correctly': 'mean'})\n",
    "plt.scatter(activity_grp['user_id'], activity_grp['answered_correctly'])\n",
    "plt.title('Student Performance Given Number of Events')\n",
    "plt.xlabel('Number of Events')\n",
    "plt.ylabel('Percent Score')\n",
    "plt.show()\n",
    "\n",
    "del activity_grp"
   ],
   "metadata": {
    "collapsed": false,
    "pycharm": {
     "name": "#%%\n"
    }
   }
  },
  {
   "cell_type": "code",
   "execution_count": 13,
   "outputs": [],
   "source": [
    "# APPLICATION PHASE\n",
    "\n",
    "def jagged_to_fixed_matrix(x, n , fill_value):\n",
    "    a = np.full((len(x), n), fill_value)\n",
    "    for i,xi in enumerate(x):\n",
    "        end = min(n, len(xi))\n",
    "        a[i][0:end] = [xi[j] for j in range(end)]\n",
    "    return a\n",
    "\n",
    "def create_batch_iter(n, skip):\n",
    "    a = list(range(0, n, skip)) + [n]\n",
    "    return [(a[i], a[i + 1]) for i in range(len(a) - 1)]"
   ],
   "metadata": {
    "collapsed": false,
    "pycharm": {
     "name": "#%%\n"
    }
   }
  },
  {
   "cell_type": "code",
   "execution_count": 14,
   "outputs": [],
   "source": [
    "# APPLICATION PHASE"
   ],
   "metadata": {
    "collapsed": false,
    "pycharm": {
     "name": "#%%\n"
    }
   }
  },
  {
   "cell_type": "code",
   "execution_count": 15,
   "outputs": [],
   "source": [
    "# Clear up some memory\n",
    "del squestions\n",
    "del slectures"
   ],
   "metadata": {
    "collapsed": false,
    "pycharm": {
     "name": "#%%\n"
    }
   }
  },
  {
   "cell_type": "code",
   "execution_count": 16,
   "outputs": [],
   "source": [
    "# Data Preparation\n",
    "full['prior_question_elapsed_time'] = full['prior_question_elapsed_time'].fillna(0)\n",
    "full['prior_question_had_explanation'] = full['prior_question_had_explanation'].fillna(False)\n",
    "\n",
    "# Transform timestamps into approx. month interval timestamps\n",
    "full['timestamp'] = (full['timestamp'] // 1000 // 60 // 60 // 24 // 30).astype(np.uint16)\n",
    "\n",
    "# Standardize relevant data\n",
    "for col in ['timestamp', 'prior_question_elapsed_time']:\n",
    "    u = full[col].mean()\n",
    "    std = full[col].std()\n",
    "    full[col] = ((full[col] - u) / std).fillna(u)"
   ],
   "metadata": {
    "collapsed": false,
    "pycharm": {
     "name": "#%%\n"
    }
   }
  },
  {
   "cell_type": "code",
   "execution_count": 17,
   "outputs": [],
   "source": [
    "# We instead split on user_ids instead of rows, this makes more sense when the history of a user matters.\n",
    "user_ids = full['user_id'].unique()\n",
    "np.random.shuffle(user_ids)\n",
    "valid_ids, train_ids = user_ids[0: int(len(user_ids) * 0.1)], user_ids[int(len(user_ids) * 0.1): len(user_ids)]\n",
    "train = full[full['user_id'].isin(train_ids)]\n",
    "valid = full[full['user_id'].isin(valid_ids)]"
   ],
   "metadata": {
    "collapsed": false,
    "pycharm": {
     "name": "#%%\n"
    }
   }
  },
  {
   "cell_type": "code",
   "execution_count": 18,
   "outputs": [],
   "source": [
    "a, f, b = student_dataset.get_features(train[0:1].to_numpy())\n",
    "extra_input_dim = len(f[0])\n",
    "num_embeddings = student_dataset.num_tags + 1"
   ],
   "metadata": {
    "collapsed": false,
    "pycharm": {
     "name": "#%%\n"
    }
   }
  },
  {
   "cell_type": "code",
   "execution_count": 19,
   "outputs": [
    {
     "name": "stderr",
     "output_type": "stream",
     "text": [
      "EPOCH: 0, Avg. Loss: 0.5775, Train Acc:70.05%: 100%|██████████| 105994/105994 [22:25<00:00, 78.75it/s]\n",
      "EPOCH: 0, Avg. Loss: 0.5964, Valid Acc: 69.17: 100%|██████████| 11195/11195 [02:05<00:00, 89.12it/s]\n",
      "EPOCH: 1, Avg. Loss: 0.5614, Train Acc:71.21%: 100%|██████████| 105994/105994 [23:14<00:00, 75.98it/s]\n",
      "EPOCH: 1, Avg. Loss: 0.5851, Valid Acc: 69.82: 100%|██████████| 11195/11195 [02:05<00:00, 89.13it/s]\n",
      "EPOCH: 2, Avg. Loss: 0.5591, Train Acc:71.38%: 100%|██████████| 105994/105994 [23:30<00:00, 75.17it/s]\n",
      "EPOCH: 2, Avg. Loss: 0.5791, Valid Acc: 70.1: 100%|██████████| 11195/11195 [02:09<00:00, 86.62it/s] \n",
      "EPOCH: 3, Avg. Loss: 0.557, Train Acc:71.52%: 100%|██████████| 105994/105994 [24:01<00:00, 73.53it/s] \n",
      "EPOCH: 3, Avg. Loss: 0.5781, Valid Acc: 70.27: 100%|██████████| 11195/11195 [02:07<00:00, 87.69it/s]\n",
      "EPOCH: 4, Avg. Loss: 0.5549, Train Acc:71.67%: 100%|██████████| 105994/105994 [24:18<00:00, 72.65it/s]\n",
      "EPOCH: 4, Avg. Loss: 0.5799, Valid Acc: 70.16: 100%|██████████| 11195/11195 [02:23<00:00, 78.13it/s]\n",
      "EPOCH: 5, Avg. Loss: 0.5529, Train Acc:71.8%: 100%|██████████| 105994/105994 [26:00<00:00, 67.92it/s] \n",
      "EPOCH: 5, Avg. Loss: 0.5776, Valid Acc: 70.25: 100%|██████████| 11195/11195 [02:19<00:00, 80.05it/s]\n",
      "EPOCH: 6, Avg. Loss: 0.5511, Train Acc:71.9%: 100%|██████████| 105994/105994 [25:47<00:00, 68.50it/s] \n",
      "EPOCH: 6, Avg. Loss: 0.5753, Valid Acc: 70.45: 100%|██████████| 11195/11195 [02:18<00:00, 81.05it/s]\n",
      "EPOCH: 7, Avg. Loss: 0.5494, Train Acc:72.0%: 100%|██████████| 105994/105994 [25:52<00:00, 68.27it/s] \n",
      "EPOCH: 7, Avg. Loss: 0.5814, Valid Acc: 70.15: 100%|██████████| 11195/11195 [02:19<00:00, 80.51it/s]\n",
      "EPOCH: 8, Avg. Loss: 0.5479, Train Acc:72.09%: 100%|██████████| 105994/105994 [25:58<00:00, 68.00it/s]\n",
      "EPOCH: 8, Avg. Loss: 0.5885, Valid Acc: 69.79: 100%|██████████| 11195/11195 [02:20<00:00, 79.84it/s]\n",
      "EPOCH: 9, Avg. Loss: 0.5468, Train Acc:72.16%: 100%|██████████| 105994/105994 [25:40<00:00, 68.82it/s]\n",
      "EPOCH: 9, Avg. Loss: 0.5818, Valid Acc: 70.13: 100%|██████████| 11195/11195 [02:19<00:00, 80.46it/s]\n"
     ]
    },
    {
     "name": "stdout",
     "output_type": "stream",
     "text": [
      "Valid AUC:  0.696282386554524\n",
      "Valid AUC:  0.7102741889575841\n",
      "Valid AUC:  0.7160331520539677\n",
      "Valid AUC:  0.7159040580729367\n",
      "Valid AUC:  0.7168277213618777\n",
      "Valid AUC:  0.7209195940720128\n",
      "Valid AUC:  0.7215458283609713\n",
      "Valid AUC:  0.7174040877058797\n",
      "Valid AUC:  0.7116567852617325\n",
      "Valid AUC:  0.7141304023407752\n"
     ]
    }
   ],
   "source": [
    "device = torch.device('cuda' if torch.cuda.is_available() else 'cpu')\n",
    "model = Network(student_dataset.num_tags + 1, extra_input_dim, 64, 32, embedding_dim=10).to(device)\n",
    "loss_func = nn.BCEWithLogitsLoss()\n",
    "optimizer = optim.Adam(model.parameters(), lr=LEARNING_RATE, weight_decay=WEIGHT_DECAY)\n",
    "\n",
    "epoch_train_loss, epoch_train_accuracy = [], []\n",
    "epoch_valid_loss, epoch_valid_accuracy, epoch_valid_fpr, epoch_valid_tpr = [], [], [], []\n",
    "\n",
    "epoch = 0\n",
    "for epoch_i in range(epoch + 10):\n",
    "    epoch = epoch_i\n",
    "    tq = tqdm(create_batch_iter(len(train), BATCH_SIZE))\n",
    "\n",
    "    # Average Loss Variables\n",
    "    total_loss = 0\n",
    "    current_len = 0\n",
    "    total_correct = 0\n",
    "    total_len = 0\n",
    "    student_dataset.reset()\n",
    "\n",
    "    for i,j in tq:\n",
    "        student_tags, f, labels = student_dataset.get_features(train[i:j].to_numpy())\n",
    "        student_tags = torch.tensor(student_tags).long().to(device)\n",
    "        n = len(f)\n",
    "\n",
    "        f = torch.tensor(f).view(n, len(f[0])).float().to(device)\n",
    "\n",
    "        labels = torch.tensor(labels.astype(np.bool)).view(n, 1).float().to(device)\n",
    "\n",
    "        predictions = model(student_tags, f)\n",
    "\n",
    "        loss = loss_func(predictions, labels.float())\n",
    "        optimizer.zero_grad()\n",
    "        loss.backward()\n",
    "        optimizer.step()\n",
    "\n",
    "        current_len += n\n",
    "        total_loss += loss.item() * n\n",
    "\n",
    "        pred = torch.sigmoid(predictions).cpu().view(n).detach().numpy()\n",
    "        tgt = labels.cpu().view(n).detach().numpy()\n",
    "        total_correct += sum(np.round(pred) == tgt)\n",
    "        tq.set_description('EPOCH: ' + str(epoch) + ', Avg. Loss: ' + str(np.round(total_loss / current_len, 4)) + ', Train Acc:'  + \\\n",
    "                           str(np.round(total_correct / current_len * 100, 2)) + '%')\n",
    "\n",
    "    epoch_train_loss.append(total_loss/ current_len)\n",
    "    epoch_train_accuracy.append(total_correct / current_len * 100)\n",
    "\n",
    "    tq = tqdm(create_batch_iter(len(valid), BATCH_SIZE))\n",
    "    total_loss = 0\n",
    "    current_len = 0\n",
    "    total_correct = 0\n",
    "    total_len = 0\n",
    "\n",
    "    preds = []\n",
    "    tgts = []\n",
    "    with torch.no_grad():\n",
    "        for i,j in tq:\n",
    "            student_tags, f, labels = student_dataset.get_features(valid[i:j].to_numpy())\n",
    "            student_tags = torch.tensor(student_tags).long().to(device)\n",
    "            n = len(f)\n",
    "\n",
    "            f = torch.tensor(f).view(n, len(f[0])).float().to(device)\n",
    "\n",
    "            labels = torch.tensor(labels.astype(np.bool)).view(n, 1).float().to(device)\n",
    "\n",
    "            predictions = model(student_tags, f)\n",
    "\n",
    "            loss = loss_func(predictions, labels.float())\n",
    "\n",
    "\n",
    "            current_len += n\n",
    "            total_loss += loss.item() * n\n",
    "\n",
    "            pred = torch.sigmoid(predictions).cpu().view(n).detach().flatten().numpy()\n",
    "            tgt = labels.cpu().view(n).detach().flatten().numpy()\n",
    "            preds.append(pred)\n",
    "            tgts.append(tgt)\n",
    "            total_correct += sum(np.round(pred) == np.array(tgt))\n",
    "            tq.set_description('EPOCH: ' + str(epoch) + ', Avg. Loss: ' + str(np.round(total_loss / current_len, 4)) + ', Valid Acc: '  + \\\n",
    "                               str(np.round(total_correct / current_len * 100, 2)))\n",
    "\n",
    "    epoch_valid_loss.append(total_loss/ current_len)\n",
    "    epoch_valid_accuracy.append(total_correct / current_len * 100)\n",
    "    preds = [p for b in preds for p in b]\n",
    "    tgts = [p for b in tgts for p in b]\n",
    "    fpr, tpr, _ = roc_curve(tgts, preds)\n",
    "    epoch_valid_fpr.append(fpr)\n",
    "    epoch_valid_tpr.append(tpr)\n",
    "    print('Valid AUC: ', auc(fpr, tpr))"
   ],
   "metadata": {
    "collapsed": false,
    "pycharm": {
     "name": "#%%\n"
    }
   }
  },
  {
   "cell_type": "code",
   "execution_count": 20,
   "outputs": [],
   "source": [
    "torch.save({\n",
    "    'model_state_dict': model.state_dict(),\n",
    "    'epoch': epoch + 1,\n",
    "    'epoch_train_loss': epoch_train_loss,\n",
    "    'epoch_train_accuracy': epoch_train_accuracy,\n",
    "    'epoch_valid_loss': epoch_valid_loss,\n",
    "    'epoch_valid_accuracy': epoch_valid_accuracy,\n",
    "    'epoch_valid_fpr': epoch_valid_fpr,\n",
    "    'epoch_valid_tpr': epoch_valid_tpr\n",
    "}, 'model.md')"
   ],
   "metadata": {
    "collapsed": false,
    "pycharm": {
     "name": "#%%\n"
    }
   }
  },
  {
   "cell_type": "code",
   "execution_count": 20,
   "outputs": [],
   "source": [],
   "metadata": {
    "collapsed": false,
    "pycharm": {
     "name": "#%%\n"
    }
   }
  }
 ],
 "metadata": {
  "kernelspec": {
   "display_name": "Python 3",
   "language": "python",
   "name": "python3"
  },
  "language_info": {
   "codemirror_mode": {
    "name": "ipython",
    "version": 2
   },
   "file_extension": ".py",
   "mimetype": "text/x-python",
   "name": "python",
   "nbconvert_exporter": "python",
   "pygments_lexer": "ipython2",
   "version": "2.7.6"
  }
 },
 "nbformat": 4,
 "nbformat_minor": 0
}