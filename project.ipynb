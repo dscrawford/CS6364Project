{
 "cells": [
  {
   "cell_type": "code",
   "execution_count": 2,
   "metadata": {
    "collapsed": true
   },
   "outputs": [],
   "source": [
    "import pandas as pd\n",
    "import numpy as np"
   ]
  },
  {
   "cell_type": "code",
   "execution_count": 20,
   "outputs": [],
   "source": [
    "# Read large datasets: https://www.kaggle.com/rohanrao/tutorial-on-reading-large-datasets\n",
    "train_dtypes = {\n",
    "    \"row_id\": \"int64\",\n",
    "    \"timestamp\": \"int64\",\n",
    "    \"user_id\": \"int32\",\n",
    "    \"content_id\": \"int16\",\n",
    "    \"content_type_id\": \"boolean\",\n",
    "    \"task_container_id\": \"int16\",\n",
    "    \"user_answer\": \"int8\",\n",
    "    \"answered_correctly\": \"int8\",\n",
    "    \"prior_question_elapsed_time\": \"float32\",\n",
    "    \"prior_question_had_explanation\": \"boolean\"\n",
    "}\n",
    "\n",
    "train_df = pd.read_csv('train.csv', nrows=100000, dtype=train_dtypes)\n",
    "questions_df = pd.read_csv('questions.csv')\n",
    "lectures_df = pd.read_csv('lectures.csv')\n",
    "example_test_df = pd.read_csv('example_test.csv')"
   ],
   "metadata": {
    "collapsed": false,
    "pycharm": {
     "name": "#%%\n"
    }
   }
  },
  {
   "cell_type": "code",
   "execution_count": 4,
   "outputs": [
    {
     "data": {
      "text/plain": "       row_id  timestamp  user_id  content_id  content_type_id  \\\n0           0          0      115        5692            False   \n1           1      56943      115        5716            False   \n2           2     118363      115         128            False   \n3           3     131167      115        7860            False   \n4           4     137965      115        7922            False   \n...       ...        ...      ...         ...              ...   \n99995   99995  153647401  2078569        4334            False   \n99996   99996  153692472  2078569        6436            False   \n99997   99997  153722998  2078569        6446            False   \n99998   99998  153759775  2078569        3715            False   \n99999   99999  153842445  2078569        5624            False   \n\n       task_container_id  user_answer  answered_correctly  \\\n0                      1            3                   1   \n1                      2            2                   1   \n2                      0            0                   1   \n3                      3            0                   1   \n4                      4            1                   1   \n...                  ...          ...                 ...   \n99995                275            3                   0   \n99996                276            3                   0   \n99997                277            2                   1   \n99998                278            3                   0   \n99999                279            3                   1   \n\n       prior_question_elapsed_time  prior_question_had_explanation  \n0                              NaN                            <NA>  \n1                          37000.0                           False  \n2                          55000.0                           False  \n3                          19000.0                           False  \n4                          11000.0                           False  \n...                            ...                             ...  \n99995                       6000.0                            True  \n99996                       9000.0                            True  \n99997                      21000.0                            True  \n99998                      12000.0                            True  \n99999                      16000.0                            True  \n\n[100000 rows x 10 columns]",
      "text/html": "<div>\n<style scoped>\n    .dataframe tbody tr th:only-of-type {\n        vertical-align: middle;\n    }\n\n    .dataframe tbody tr th {\n        vertical-align: top;\n    }\n\n    .dataframe thead th {\n        text-align: right;\n    }\n</style>\n<table border=\"1\" class=\"dataframe\">\n  <thead>\n    <tr style=\"text-align: right;\">\n      <th></th>\n      <th>row_id</th>\n      <th>timestamp</th>\n      <th>user_id</th>\n      <th>content_id</th>\n      <th>content_type_id</th>\n      <th>task_container_id</th>\n      <th>user_answer</th>\n      <th>answered_correctly</th>\n      <th>prior_question_elapsed_time</th>\n      <th>prior_question_had_explanation</th>\n    </tr>\n  </thead>\n  <tbody>\n    <tr>\n      <th>0</th>\n      <td>0</td>\n      <td>0</td>\n      <td>115</td>\n      <td>5692</td>\n      <td>False</td>\n      <td>1</td>\n      <td>3</td>\n      <td>1</td>\n      <td>NaN</td>\n      <td>&lt;NA&gt;</td>\n    </tr>\n    <tr>\n      <th>1</th>\n      <td>1</td>\n      <td>56943</td>\n      <td>115</td>\n      <td>5716</td>\n      <td>False</td>\n      <td>2</td>\n      <td>2</td>\n      <td>1</td>\n      <td>37000.0</td>\n      <td>False</td>\n    </tr>\n    <tr>\n      <th>2</th>\n      <td>2</td>\n      <td>118363</td>\n      <td>115</td>\n      <td>128</td>\n      <td>False</td>\n      <td>0</td>\n      <td>0</td>\n      <td>1</td>\n      <td>55000.0</td>\n      <td>False</td>\n    </tr>\n    <tr>\n      <th>3</th>\n      <td>3</td>\n      <td>131167</td>\n      <td>115</td>\n      <td>7860</td>\n      <td>False</td>\n      <td>3</td>\n      <td>0</td>\n      <td>1</td>\n      <td>19000.0</td>\n      <td>False</td>\n    </tr>\n    <tr>\n      <th>4</th>\n      <td>4</td>\n      <td>137965</td>\n      <td>115</td>\n      <td>7922</td>\n      <td>False</td>\n      <td>4</td>\n      <td>1</td>\n      <td>1</td>\n      <td>11000.0</td>\n      <td>False</td>\n    </tr>\n    <tr>\n      <th>...</th>\n      <td>...</td>\n      <td>...</td>\n      <td>...</td>\n      <td>...</td>\n      <td>...</td>\n      <td>...</td>\n      <td>...</td>\n      <td>...</td>\n      <td>...</td>\n      <td>...</td>\n    </tr>\n    <tr>\n      <th>99995</th>\n      <td>99995</td>\n      <td>153647401</td>\n      <td>2078569</td>\n      <td>4334</td>\n      <td>False</td>\n      <td>275</td>\n      <td>3</td>\n      <td>0</td>\n      <td>6000.0</td>\n      <td>True</td>\n    </tr>\n    <tr>\n      <th>99996</th>\n      <td>99996</td>\n      <td>153692472</td>\n      <td>2078569</td>\n      <td>6436</td>\n      <td>False</td>\n      <td>276</td>\n      <td>3</td>\n      <td>0</td>\n      <td>9000.0</td>\n      <td>True</td>\n    </tr>\n    <tr>\n      <th>99997</th>\n      <td>99997</td>\n      <td>153722998</td>\n      <td>2078569</td>\n      <td>6446</td>\n      <td>False</td>\n      <td>277</td>\n      <td>2</td>\n      <td>1</td>\n      <td>21000.0</td>\n      <td>True</td>\n    </tr>\n    <tr>\n      <th>99998</th>\n      <td>99998</td>\n      <td>153759775</td>\n      <td>2078569</td>\n      <td>3715</td>\n      <td>False</td>\n      <td>278</td>\n      <td>3</td>\n      <td>0</td>\n      <td>12000.0</td>\n      <td>True</td>\n    </tr>\n    <tr>\n      <th>99999</th>\n      <td>99999</td>\n      <td>153842445</td>\n      <td>2078569</td>\n      <td>5624</td>\n      <td>False</td>\n      <td>279</td>\n      <td>3</td>\n      <td>1</td>\n      <td>16000.0</td>\n      <td>True</td>\n    </tr>\n  </tbody>\n</table>\n<p>100000 rows × 10 columns</p>\n</div>"
     },
     "execution_count": 4,
     "metadata": {},
     "output_type": "execute_result"
    }
   ],
   "source": [
    "train_df"
   ],
   "metadata": {
    "collapsed": false,
    "pycharm": {
     "name": "#%%\n"
    }
   }
  },
  {
   "cell_type": "code",
   "execution_count": 5,
   "outputs": [
    {
     "data": {
      "text/plain": "       question_id  bundle_id  correct_answer  part            tags\n0                0          0               0     1   51 131 162 38\n1                1          1               1     1       131 36 81\n2                2          2               0     1  131 101 162 92\n3                3          3               0     1  131 149 162 29\n4                4          4               3     1    131 5 162 38\n...            ...        ...             ...   ...             ...\n13518        13518      13518               3     5              14\n13519        13519      13519               3     5               8\n13520        13520      13520               2     5              73\n13521        13521      13521               0     5             125\n13522        13522      13522               3     5              55\n\n[13523 rows x 5 columns]",
      "text/html": "<div>\n<style scoped>\n    .dataframe tbody tr th:only-of-type {\n        vertical-align: middle;\n    }\n\n    .dataframe tbody tr th {\n        vertical-align: top;\n    }\n\n    .dataframe thead th {\n        text-align: right;\n    }\n</style>\n<table border=\"1\" class=\"dataframe\">\n  <thead>\n    <tr style=\"text-align: right;\">\n      <th></th>\n      <th>question_id</th>\n      <th>bundle_id</th>\n      <th>correct_answer</th>\n      <th>part</th>\n      <th>tags</th>\n    </tr>\n  </thead>\n  <tbody>\n    <tr>\n      <th>0</th>\n      <td>0</td>\n      <td>0</td>\n      <td>0</td>\n      <td>1</td>\n      <td>51 131 162 38</td>\n    </tr>\n    <tr>\n      <th>1</th>\n      <td>1</td>\n      <td>1</td>\n      <td>1</td>\n      <td>1</td>\n      <td>131 36 81</td>\n    </tr>\n    <tr>\n      <th>2</th>\n      <td>2</td>\n      <td>2</td>\n      <td>0</td>\n      <td>1</td>\n      <td>131 101 162 92</td>\n    </tr>\n    <tr>\n      <th>3</th>\n      <td>3</td>\n      <td>3</td>\n      <td>0</td>\n      <td>1</td>\n      <td>131 149 162 29</td>\n    </tr>\n    <tr>\n      <th>4</th>\n      <td>4</td>\n      <td>4</td>\n      <td>3</td>\n      <td>1</td>\n      <td>131 5 162 38</td>\n    </tr>\n    <tr>\n      <th>...</th>\n      <td>...</td>\n      <td>...</td>\n      <td>...</td>\n      <td>...</td>\n      <td>...</td>\n    </tr>\n    <tr>\n      <th>13518</th>\n      <td>13518</td>\n      <td>13518</td>\n      <td>3</td>\n      <td>5</td>\n      <td>14</td>\n    </tr>\n    <tr>\n      <th>13519</th>\n      <td>13519</td>\n      <td>13519</td>\n      <td>3</td>\n      <td>5</td>\n      <td>8</td>\n    </tr>\n    <tr>\n      <th>13520</th>\n      <td>13520</td>\n      <td>13520</td>\n      <td>2</td>\n      <td>5</td>\n      <td>73</td>\n    </tr>\n    <tr>\n      <th>13521</th>\n      <td>13521</td>\n      <td>13521</td>\n      <td>0</td>\n      <td>5</td>\n      <td>125</td>\n    </tr>\n    <tr>\n      <th>13522</th>\n      <td>13522</td>\n      <td>13522</td>\n      <td>3</td>\n      <td>5</td>\n      <td>55</td>\n    </tr>\n  </tbody>\n</table>\n<p>13523 rows × 5 columns</p>\n</div>"
     },
     "execution_count": 5,
     "metadata": {},
     "output_type": "execute_result"
    }
   ],
   "source": [
    "questions_df"
   ],
   "metadata": {
    "collapsed": false,
    "pycharm": {
     "name": "#%%\n"
    }
   }
  },
  {
   "cell_type": "code",
   "execution_count": 6,
   "outputs": [
    {
     "data": {
      "text/plain": "     lecture_id  tag  part           type_of\n0            89  159     5           concept\n1           100   70     1           concept\n2           185   45     6           concept\n3           192   79     5  solving question\n4           317  156     5  solving question\n..          ...  ...   ...               ...\n413       32535    8     5  solving question\n414       32570  113     3  solving question\n415       32604   24     6           concept\n416       32625  142     2           concept\n417       32736   82     3           concept\n\n[418 rows x 4 columns]",
      "text/html": "<div>\n<style scoped>\n    .dataframe tbody tr th:only-of-type {\n        vertical-align: middle;\n    }\n\n    .dataframe tbody tr th {\n        vertical-align: top;\n    }\n\n    .dataframe thead th {\n        text-align: right;\n    }\n</style>\n<table border=\"1\" class=\"dataframe\">\n  <thead>\n    <tr style=\"text-align: right;\">\n      <th></th>\n      <th>lecture_id</th>\n      <th>tag</th>\n      <th>part</th>\n      <th>type_of</th>\n    </tr>\n  </thead>\n  <tbody>\n    <tr>\n      <th>0</th>\n      <td>89</td>\n      <td>159</td>\n      <td>5</td>\n      <td>concept</td>\n    </tr>\n    <tr>\n      <th>1</th>\n      <td>100</td>\n      <td>70</td>\n      <td>1</td>\n      <td>concept</td>\n    </tr>\n    <tr>\n      <th>2</th>\n      <td>185</td>\n      <td>45</td>\n      <td>6</td>\n      <td>concept</td>\n    </tr>\n    <tr>\n      <th>3</th>\n      <td>192</td>\n      <td>79</td>\n      <td>5</td>\n      <td>solving question</td>\n    </tr>\n    <tr>\n      <th>4</th>\n      <td>317</td>\n      <td>156</td>\n      <td>5</td>\n      <td>solving question</td>\n    </tr>\n    <tr>\n      <th>...</th>\n      <td>...</td>\n      <td>...</td>\n      <td>...</td>\n      <td>...</td>\n    </tr>\n    <tr>\n      <th>413</th>\n      <td>32535</td>\n      <td>8</td>\n      <td>5</td>\n      <td>solving question</td>\n    </tr>\n    <tr>\n      <th>414</th>\n      <td>32570</td>\n      <td>113</td>\n      <td>3</td>\n      <td>solving question</td>\n    </tr>\n    <tr>\n      <th>415</th>\n      <td>32604</td>\n      <td>24</td>\n      <td>6</td>\n      <td>concept</td>\n    </tr>\n    <tr>\n      <th>416</th>\n      <td>32625</td>\n      <td>142</td>\n      <td>2</td>\n      <td>concept</td>\n    </tr>\n    <tr>\n      <th>417</th>\n      <td>32736</td>\n      <td>82</td>\n      <td>3</td>\n      <td>concept</td>\n    </tr>\n  </tbody>\n</table>\n<p>418 rows × 4 columns</p>\n</div>"
     },
     "execution_count": 6,
     "metadata": {},
     "output_type": "execute_result"
    }
   ],
   "source": [
    "lectures_df"
   ],
   "metadata": {
    "collapsed": false,
    "pycharm": {
     "name": "#%%\n"
    }
   }
  },
  {
   "cell_type": "code",
   "execution_count": 7,
   "outputs": [
    {
     "data": {
      "text/plain": "     row_id  group_num    timestamp     user_id  content_id  content_type_id  \\\n0         0          0            0   275030867        5729                0   \n1         1          0  13309898705   554169193       12010                0   \n2         2          0   4213672059  1720860329         457                0   \n3         3          0  62798072960   288641214       13262                0   \n4         4          0  10585422061  1728340777        6119                0   \n..      ...        ...          ...         ...         ...              ...   \n99      104          3  13167339284  1900527744        3004                0   \n100     105          3  13167339284  1900527744        3003                0   \n101     106          3  64497673060     7792299        7908                0   \n102     107          3  62798166743   288641214        9077                0   \n103     108          3   2059176357  2018567473       12119                0   \n\n     task_container_id  prior_question_elapsed_time  \\\n0                    0                          NaN   \n1                 4427                      19000.0   \n2                  240                      17000.0   \n3                  266                      23000.0   \n4                  162                      72400.0   \n..                 ...                          ...   \n99                1179                      24667.0   \n100               1179                      24667.0   \n101                676                      19000.0   \n102                269                      25000.0   \n103                591                      20000.0   \n\n    prior_question_had_explanation prior_group_answers_correct  \\\n0                              NaN                          []   \n1                             True                         NaN   \n2                             True                         NaN   \n3                             True                         NaN   \n4                             True                         NaN   \n..                             ...                         ...   \n99                            True                         NaN   \n100                           True                         NaN   \n101                           True                         NaN   \n102                           True                         NaN   \n103                           True                         NaN   \n\n    prior_group_responses  \n0                      []  \n1                     NaN  \n2                     NaN  \n3                     NaN  \n4                     NaN  \n..                    ...  \n99                    NaN  \n100                   NaN  \n101                   NaN  \n102                   NaN  \n103                   NaN  \n\n[104 rows x 11 columns]",
      "text/html": "<div>\n<style scoped>\n    .dataframe tbody tr th:only-of-type {\n        vertical-align: middle;\n    }\n\n    .dataframe tbody tr th {\n        vertical-align: top;\n    }\n\n    .dataframe thead th {\n        text-align: right;\n    }\n</style>\n<table border=\"1\" class=\"dataframe\">\n  <thead>\n    <tr style=\"text-align: right;\">\n      <th></th>\n      <th>row_id</th>\n      <th>group_num</th>\n      <th>timestamp</th>\n      <th>user_id</th>\n      <th>content_id</th>\n      <th>content_type_id</th>\n      <th>task_container_id</th>\n      <th>prior_question_elapsed_time</th>\n      <th>prior_question_had_explanation</th>\n      <th>prior_group_answers_correct</th>\n      <th>prior_group_responses</th>\n    </tr>\n  </thead>\n  <tbody>\n    <tr>\n      <th>0</th>\n      <td>0</td>\n      <td>0</td>\n      <td>0</td>\n      <td>275030867</td>\n      <td>5729</td>\n      <td>0</td>\n      <td>0</td>\n      <td>NaN</td>\n      <td>NaN</td>\n      <td>[]</td>\n      <td>[]</td>\n    </tr>\n    <tr>\n      <th>1</th>\n      <td>1</td>\n      <td>0</td>\n      <td>13309898705</td>\n      <td>554169193</td>\n      <td>12010</td>\n      <td>0</td>\n      <td>4427</td>\n      <td>19000.0</td>\n      <td>True</td>\n      <td>NaN</td>\n      <td>NaN</td>\n    </tr>\n    <tr>\n      <th>2</th>\n      <td>2</td>\n      <td>0</td>\n      <td>4213672059</td>\n      <td>1720860329</td>\n      <td>457</td>\n      <td>0</td>\n      <td>240</td>\n      <td>17000.0</td>\n      <td>True</td>\n      <td>NaN</td>\n      <td>NaN</td>\n    </tr>\n    <tr>\n      <th>3</th>\n      <td>3</td>\n      <td>0</td>\n      <td>62798072960</td>\n      <td>288641214</td>\n      <td>13262</td>\n      <td>0</td>\n      <td>266</td>\n      <td>23000.0</td>\n      <td>True</td>\n      <td>NaN</td>\n      <td>NaN</td>\n    </tr>\n    <tr>\n      <th>4</th>\n      <td>4</td>\n      <td>0</td>\n      <td>10585422061</td>\n      <td>1728340777</td>\n      <td>6119</td>\n      <td>0</td>\n      <td>162</td>\n      <td>72400.0</td>\n      <td>True</td>\n      <td>NaN</td>\n      <td>NaN</td>\n    </tr>\n    <tr>\n      <th>...</th>\n      <td>...</td>\n      <td>...</td>\n      <td>...</td>\n      <td>...</td>\n      <td>...</td>\n      <td>...</td>\n      <td>...</td>\n      <td>...</td>\n      <td>...</td>\n      <td>...</td>\n      <td>...</td>\n    </tr>\n    <tr>\n      <th>99</th>\n      <td>104</td>\n      <td>3</td>\n      <td>13167339284</td>\n      <td>1900527744</td>\n      <td>3004</td>\n      <td>0</td>\n      <td>1179</td>\n      <td>24667.0</td>\n      <td>True</td>\n      <td>NaN</td>\n      <td>NaN</td>\n    </tr>\n    <tr>\n      <th>100</th>\n      <td>105</td>\n      <td>3</td>\n      <td>13167339284</td>\n      <td>1900527744</td>\n      <td>3003</td>\n      <td>0</td>\n      <td>1179</td>\n      <td>24667.0</td>\n      <td>True</td>\n      <td>NaN</td>\n      <td>NaN</td>\n    </tr>\n    <tr>\n      <th>101</th>\n      <td>106</td>\n      <td>3</td>\n      <td>64497673060</td>\n      <td>7792299</td>\n      <td>7908</td>\n      <td>0</td>\n      <td>676</td>\n      <td>19000.0</td>\n      <td>True</td>\n      <td>NaN</td>\n      <td>NaN</td>\n    </tr>\n    <tr>\n      <th>102</th>\n      <td>107</td>\n      <td>3</td>\n      <td>62798166743</td>\n      <td>288641214</td>\n      <td>9077</td>\n      <td>0</td>\n      <td>269</td>\n      <td>25000.0</td>\n      <td>True</td>\n      <td>NaN</td>\n      <td>NaN</td>\n    </tr>\n    <tr>\n      <th>103</th>\n      <td>108</td>\n      <td>3</td>\n      <td>2059176357</td>\n      <td>2018567473</td>\n      <td>12119</td>\n      <td>0</td>\n      <td>591</td>\n      <td>20000.0</td>\n      <td>True</td>\n      <td>NaN</td>\n      <td>NaN</td>\n    </tr>\n  </tbody>\n</table>\n<p>104 rows × 11 columns</p>\n</div>"
     },
     "execution_count": 7,
     "metadata": {},
     "output_type": "execute_result"
    }
   ],
   "source": [
    "example_test_df"
   ],
   "metadata": {
    "collapsed": false,
    "pycharm": {
     "name": "#%%\n"
    }
   }
  },
  {
   "cell_type": "code",
   "execution_count": 22,
   "outputs": [],
   "source": [
    "questions_df['tags'] = questions_df['tags'].apply(lambda s: [int(x) for x in str(s).split() if x != 'nan'])"
   ],
   "metadata": {
    "collapsed": false,
    "pycharm": {
     "name": "#%%\n"
    }
   }
  },
  {
   "cell_type": "code",
   "execution_count": 29,
   "outputs": [],
   "source": [
    "NUM_TAGS = len(lectures_df['tag'].unique())"
   ],
   "metadata": {
    "collapsed": false,
    "pycharm": {
     "name": "#%%\n"
    }
   }
  },
  {
   "cell_type": "code",
   "execution_count": 31,
   "outputs": [
    {
     "data": {
      "text/plain": "151"
     },
     "execution_count": 31,
     "metadata": {},
     "output_type": "execute_result"
    }
   ],
   "source": [
    "NUM_TAGS"
   ],
   "metadata": {
    "collapsed": false,
    "pycharm": {
     "name": "#%%\n"
    }
   }
  },
  {
   "cell_type": "code",
   "execution_count": 32,
   "outputs": [
    {
     "data": {
      "text/plain": "     0    1    2    4    5    6    7    8    9    12   ...  176  177  178  \\\n0      0    0    0    0    0    0    0    0    0    0  ...    0    0    0   \n1      0    0    0    0    0    0    0    0    0    0  ...    0    0    0   \n2      0    0    0    0    0    0    0    0    0    0  ...    0    0    0   \n3      0    0    0    0    0    0    0    0    0    0  ...    0    0    0   \n4      0    0    0    0    0    0    0    0    0    0  ...    0    0    0   \n..   ...  ...  ...  ...  ...  ...  ...  ...  ...  ...  ...  ...  ...  ...   \n413    0    0    0    0    0    0    0    1    0    0  ...    0    0    0   \n414    0    0    0    0    0    0    0    0    0    0  ...    0    0    0   \n415    0    0    0    0    0    0    0    0    0    0  ...    0    0    0   \n416    0    0    0    0    0    0    0    0    0    0  ...    0    0    0   \n417    0    0    0    0    0    0    0    0    0    0  ...    0    0    0   \n\n     179  180  181  182  183  184  187  \n0      0    0    0    0    0    0    0  \n1      0    0    0    0    0    0    0  \n2      0    0    0    0    0    0    0  \n3      0    0    0    0    0    0    0  \n4      0    0    0    0    0    0    0  \n..   ...  ...  ...  ...  ...  ...  ...  \n413    0    0    0    0    0    0    0  \n414    0    0    0    0    0    0    0  \n415    0    0    0    0    0    0    0  \n416    0    0    0    0    0    0    0  \n417    0    0    0    0    0    0    0  \n\n[418 rows x 151 columns]",
      "text/html": "<div>\n<style scoped>\n    .dataframe tbody tr th:only-of-type {\n        vertical-align: middle;\n    }\n\n    .dataframe tbody tr th {\n        vertical-align: top;\n    }\n\n    .dataframe thead th {\n        text-align: right;\n    }\n</style>\n<table border=\"1\" class=\"dataframe\">\n  <thead>\n    <tr style=\"text-align: right;\">\n      <th></th>\n      <th>0</th>\n      <th>1</th>\n      <th>2</th>\n      <th>4</th>\n      <th>5</th>\n      <th>6</th>\n      <th>7</th>\n      <th>8</th>\n      <th>9</th>\n      <th>12</th>\n      <th>...</th>\n      <th>176</th>\n      <th>177</th>\n      <th>178</th>\n      <th>179</th>\n      <th>180</th>\n      <th>181</th>\n      <th>182</th>\n      <th>183</th>\n      <th>184</th>\n      <th>187</th>\n    </tr>\n  </thead>\n  <tbody>\n    <tr>\n      <th>0</th>\n      <td>0</td>\n      <td>0</td>\n      <td>0</td>\n      <td>0</td>\n      <td>0</td>\n      <td>0</td>\n      <td>0</td>\n      <td>0</td>\n      <td>0</td>\n      <td>0</td>\n      <td>...</td>\n      <td>0</td>\n      <td>0</td>\n      <td>0</td>\n      <td>0</td>\n      <td>0</td>\n      <td>0</td>\n      <td>0</td>\n      <td>0</td>\n      <td>0</td>\n      <td>0</td>\n    </tr>\n    <tr>\n      <th>1</th>\n      <td>0</td>\n      <td>0</td>\n      <td>0</td>\n      <td>0</td>\n      <td>0</td>\n      <td>0</td>\n      <td>0</td>\n      <td>0</td>\n      <td>0</td>\n      <td>0</td>\n      <td>...</td>\n      <td>0</td>\n      <td>0</td>\n      <td>0</td>\n      <td>0</td>\n      <td>0</td>\n      <td>0</td>\n      <td>0</td>\n      <td>0</td>\n      <td>0</td>\n      <td>0</td>\n    </tr>\n    <tr>\n      <th>2</th>\n      <td>0</td>\n      <td>0</td>\n      <td>0</td>\n      <td>0</td>\n      <td>0</td>\n      <td>0</td>\n      <td>0</td>\n      <td>0</td>\n      <td>0</td>\n      <td>0</td>\n      <td>...</td>\n      <td>0</td>\n      <td>0</td>\n      <td>0</td>\n      <td>0</td>\n      <td>0</td>\n      <td>0</td>\n      <td>0</td>\n      <td>0</td>\n      <td>0</td>\n      <td>0</td>\n    </tr>\n    <tr>\n      <th>3</th>\n      <td>0</td>\n      <td>0</td>\n      <td>0</td>\n      <td>0</td>\n      <td>0</td>\n      <td>0</td>\n      <td>0</td>\n      <td>0</td>\n      <td>0</td>\n      <td>0</td>\n      <td>...</td>\n      <td>0</td>\n      <td>0</td>\n      <td>0</td>\n      <td>0</td>\n      <td>0</td>\n      <td>0</td>\n      <td>0</td>\n      <td>0</td>\n      <td>0</td>\n      <td>0</td>\n    </tr>\n    <tr>\n      <th>4</th>\n      <td>0</td>\n      <td>0</td>\n      <td>0</td>\n      <td>0</td>\n      <td>0</td>\n      <td>0</td>\n      <td>0</td>\n      <td>0</td>\n      <td>0</td>\n      <td>0</td>\n      <td>...</td>\n      <td>0</td>\n      <td>0</td>\n      <td>0</td>\n      <td>0</td>\n      <td>0</td>\n      <td>0</td>\n      <td>0</td>\n      <td>0</td>\n      <td>0</td>\n      <td>0</td>\n    </tr>\n    <tr>\n      <th>...</th>\n      <td>...</td>\n      <td>...</td>\n      <td>...</td>\n      <td>...</td>\n      <td>...</td>\n      <td>...</td>\n      <td>...</td>\n      <td>...</td>\n      <td>...</td>\n      <td>...</td>\n      <td>...</td>\n      <td>...</td>\n      <td>...</td>\n      <td>...</td>\n      <td>...</td>\n      <td>...</td>\n      <td>...</td>\n      <td>...</td>\n      <td>...</td>\n      <td>...</td>\n      <td>...</td>\n    </tr>\n    <tr>\n      <th>413</th>\n      <td>0</td>\n      <td>0</td>\n      <td>0</td>\n      <td>0</td>\n      <td>0</td>\n      <td>0</td>\n      <td>0</td>\n      <td>1</td>\n      <td>0</td>\n      <td>0</td>\n      <td>...</td>\n      <td>0</td>\n      <td>0</td>\n      <td>0</td>\n      <td>0</td>\n      <td>0</td>\n      <td>0</td>\n      <td>0</td>\n      <td>0</td>\n      <td>0</td>\n      <td>0</td>\n    </tr>\n    <tr>\n      <th>414</th>\n      <td>0</td>\n      <td>0</td>\n      <td>0</td>\n      <td>0</td>\n      <td>0</td>\n      <td>0</td>\n      <td>0</td>\n      <td>0</td>\n      <td>0</td>\n      <td>0</td>\n      <td>...</td>\n      <td>0</td>\n      <td>0</td>\n      <td>0</td>\n      <td>0</td>\n      <td>0</td>\n      <td>0</td>\n      <td>0</td>\n      <td>0</td>\n      <td>0</td>\n      <td>0</td>\n    </tr>\n    <tr>\n      <th>415</th>\n      <td>0</td>\n      <td>0</td>\n      <td>0</td>\n      <td>0</td>\n      <td>0</td>\n      <td>0</td>\n      <td>0</td>\n      <td>0</td>\n      <td>0</td>\n      <td>0</td>\n      <td>...</td>\n      <td>0</td>\n      <td>0</td>\n      <td>0</td>\n      <td>0</td>\n      <td>0</td>\n      <td>0</td>\n      <td>0</td>\n      <td>0</td>\n      <td>0</td>\n      <td>0</td>\n    </tr>\n    <tr>\n      <th>416</th>\n      <td>0</td>\n      <td>0</td>\n      <td>0</td>\n      <td>0</td>\n      <td>0</td>\n      <td>0</td>\n      <td>0</td>\n      <td>0</td>\n      <td>0</td>\n      <td>0</td>\n      <td>...</td>\n      <td>0</td>\n      <td>0</td>\n      <td>0</td>\n      <td>0</td>\n      <td>0</td>\n      <td>0</td>\n      <td>0</td>\n      <td>0</td>\n      <td>0</td>\n      <td>0</td>\n    </tr>\n    <tr>\n      <th>417</th>\n      <td>0</td>\n      <td>0</td>\n      <td>0</td>\n      <td>0</td>\n      <td>0</td>\n      <td>0</td>\n      <td>0</td>\n      <td>0</td>\n      <td>0</td>\n      <td>0</td>\n      <td>...</td>\n      <td>0</td>\n      <td>0</td>\n      <td>0</td>\n      <td>0</td>\n      <td>0</td>\n      <td>0</td>\n      <td>0</td>\n      <td>0</td>\n      <td>0</td>\n      <td>0</td>\n    </tr>\n  </tbody>\n</table>\n<p>418 rows × 151 columns</p>\n</div>"
     },
     "execution_count": 32,
     "metadata": {},
     "output_type": "execute_result"
    }
   ],
   "source": [
    "pd.get_dummies(lectures_df['tag'])"
   ],
   "metadata": {
    "collapsed": false,
    "pycharm": {
     "name": "#%%\n"
    }
   }
  },
  {
   "cell_type": "code",
   "execution_count": 48,
   "outputs": [
    {
     "data": {
      "text/plain": "user_id\n2746                                                  [6808]\n5382                                   [16736, 30207, 18545]\n8623                                   [10540, 25843, 29544]\n12741              [20307, 10688, 10217, 3852, 18186, 22792]\n13134         [21887, 29544, 3153, 28921, 28349, 2278, 7477]\n                                 ...                        \n2035385                                 [3153, 21887, 14443]\n2041025    [27845, 2278, 22034, 32018, 27339, 6481, 23165...\n2048552    [10540, 32736, 21168, 25843, 18467, 30276, 851...\n2066347                                               [7926]\n2073472                                              [29695]\nLength: 144, dtype: object"
     },
     "execution_count": 48,
     "metadata": {},
     "output_type": "execute_result"
    }
   ],
   "source": [
    "user_tags = train_df[train_df['content_type_id'] == 1].groupby('user_id').apply(lambda x: list(x['content_id']))"
   ],
   "metadata": {
    "collapsed": false,
    "pycharm": {
     "name": "#%%\n"
    }
   }
  },
  {
   "cell_type": "code",
   "execution_count": null,
   "outputs": [],
   "source": [
    "'''\n",
    "Build more robust embeddings by learning how certain tags help answer certain questions.\n",
    "So gather tags student has learned in lectures -> learn which tags helped answer the question the most.\n",
    "'''"
   ],
   "metadata": {
    "collapsed": false,
    "pycharm": {
     "name": "#%%\n"
    }
   }
  }
 ],
 "metadata": {
  "kernelspec": {
   "display_name": "Python 3",
   "language": "python",
   "name": "python3"
  },
  "language_info": {
   "codemirror_mode": {
    "name": "ipython",
    "version": 2
   },
   "file_extension": ".py",
   "mimetype": "text/x-python",
   "name": "python",
   "nbconvert_exporter": "python",
   "pygments_lexer": "ipython2",
   "version": "2.7.6"
  }
 },
 "nbformat": 4,
 "nbformat_minor": 0
}