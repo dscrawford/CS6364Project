{
 "cells": [
  {
   "cell_type": "code",
   "execution_count": 1,
   "outputs": [],
   "source": [
    "import pandas as pd\n",
    "import numpy as np\n",
    "import torch\n",
    "from torch import nn, optim\n",
    "from tqdm import tqdm\n",
    "from sklearn.metrics import roc_curve, auc"
   ],
   "metadata": {
    "collapsed": false,
    "pycharm": {
     "name": "#%%\n"
    }
   }
  },
  {
   "cell_type": "code",
   "execution_count": 2,
   "outputs": [],
   "source": [
    "# File\n",
    "# dir = '../input/riiid-test-answer-prediction/'\n",
    "dir = './'\n",
    "FEATURE_FOLDER_PATH = dir + 'riiid_features/'\n",
    "\n",
    "# Hyper parameters\n",
    "BATCH_SIZE = 512\n",
    "LEARNING_RATE = 1e-4\n",
    "WEIGHT_DECAY = 1e-5\n",
    "NUM_EPOCHS = 20\n",
    "TAGS_LEN = 50\n",
    "EMBEDDING_DIM = 10\n",
    "\n",
    "#\n",
    "NROWS = 30000000"
   ],
   "metadata": {
    "collapsed": false,
    "pycharm": {
     "name": "#%%\n"
    }
   }
  },
  {
   "cell_type": "code",
   "execution_count": 3,
   "outputs": [],
   "source": [
    "def jagged_to_fixed_matrix(x, n , fill_value):\n",
    "    a = np.full((len(x), n), fill_value)\n",
    "    for i,xi in enumerate(x):\n",
    "        end = min(n, len(xi))\n",
    "        a[i][0:end] = [xi[j] for j in range(end)]\n",
    "    return a\n",
    "\n",
    "def create_batch_iter(n, skip):\n",
    "    a = list(range(0, n, skip)) + [n]\n",
    "    return [(a[i], a[i + 1]) for i in range(len(a) - 1)]\n",
    "\n",
    "class StudentKnowledge:\n",
    "    def __init__(self, num_tags):\n",
    "        self.lectures = []\n",
    "        self.lecture_timestamp = []\n",
    "        self.questions = []\n",
    "        self.question_timestamp = []\n",
    "        self.student_knowledge = set()\n",
    "        self.number_of_events = 0\n",
    "\n",
    "    def add_lecture(self, lecture_tag, lecture_timestamp):\n",
    "        self.lectures.append(lecture_tag)\n",
    "        self.lecture_timestamp.append(lecture_timestamp)\n",
    "        self.student_knowledge.add(lecture_tag)\n",
    "        self.number_of_events += 1\n",
    "\n",
    "    def add_question(self, question_answered_right, question_timestamp, question_tags):\n",
    "        self.questions.append(question_answered_right)\n",
    "        self.question_timestamp.append(question_timestamp)\n",
    "        if question_answered_right:\n",
    "            for tag in question_tags:\n",
    "                self.student_knowledge.add(tag)\n",
    "        self.number_of_events += 1\n",
    "\n",
    "    def get_features(self):\n",
    "        return np.fromiter(self.student_knowledge, int, len(self.student_knowledge))\n",
    "\n",
    "class StudentDataset:\n",
    "    def __init__(self, lectures, questions, train_df, tags_len=30, additional_features=None):\n",
    "        self.t_index = {col: i for i, col in enumerate(train_df.columns)}\n",
    "        additional_features = [] if additional_features is None else additional_features\n",
    "        self.additional_features_index = [t_index[feature_name] for feature_name in additional_features]\n",
    "\n",
    "        self.students = {}\n",
    "        self.lecture_tags = {row['lecture_id']: row['tag'] for _, row in lectures.iterrows()}\n",
    "        self.question_tags = {row['question_id']: row['tags'] for _, row in questions.iterrows()}\n",
    "\n",
    "        # Compute Tag Averages from Students\n",
    "        squestions = train_df[train_df['content_type_id'] == 0]\n",
    "        self.tag_means = {}\n",
    "        for i, question_ids in enumerate(questions_df[['question_id', 'tags']].explode('tags').groupby('tags').apply(lambda x: set(x['question_id']))):\n",
    "            self.tag_means[i] = squestions[squestions['content_id'].isin(question_ids)]['answered_correctly'].mean()\n",
    "\n",
    "        # Compute Question Averages from Student\n",
    "        question_means = train_df[train_df['content_type_id'] == 0].groupby('content_id')['answered_correctly'].mean()\n",
    "        self.question_means = {qi: m for qi, m in zip(question_means.index, question_means)}\n",
    "\n",
    "        # Get Number of Tags in the Datset\n",
    "        a = questions['tags'].to_numpy()\n",
    "        self.num_tags = len(np.unique([x for b in a for x in b]))\n",
    "\n",
    "        # Get mean & std of number of events\n",
    "        usr_grp_cnt = train_df.groupby('user_id')['user_id'].count()\n",
    "        self.no_events_u    = usr_grp_cnt.mean()\n",
    "        self.no_events_std  = usr_grp_cnt.std()\n",
    "\n",
    "\n",
    "        self.tags_len = tags_len\n",
    "    def read(self, row):\n",
    "        student_id = row[self.t_index['user_id']]\n",
    "        content_type_id = row[self.t_index['content_type_id']]\n",
    "        content_id = row[self.t_index['content_id']]\n",
    "        timestamp = row[self.t_index['timestamp']]\n",
    "        answered_right = row[self.t_index['answered_correctly']]\n",
    "        if student_id not in self.students:\n",
    "            self.students[student_id] = StudentKnowledge(self.num_tags)\n",
    "        if content_type_id == 0:\n",
    "            self.students[student_id].add_question(answered_right, timestamp, self.question_tags[content_id])\n",
    "        else:\n",
    "            self.students[student_id].add_lecture(self.lecture_tags[content_id], timestamp)\n",
    "\n",
    "    # Must receive question rows, lectures not valid\n",
    "    def get_features(self, rows):\n",
    "        for row in rows:\n",
    "            self.read(row)\n",
    "        rows = rows[rows[:, t_index['content_type_id']] == 0]\n",
    "        user_ids = rows[:,self.t_index['user_id']]\n",
    "        question_ids = rows[:, self.t_index['content_id']]\n",
    "\n",
    "        # Additional Features Here\n",
    "        student_no_events = [[(self.students[user_id].number_of_events- self.no_events_u) / self.no_events_std] for user_id in user_ids]\n",
    "        tag_difficulties = [[sum([self.tag_means[tag] for tag in self.question_tags[question_id]]) / len(self.question_tags[question_id])] \\\n",
    "                                 for question_id in question_ids]\n",
    "        question_difficulties = [[self.question_means[question_id]] for question_id in question_ids]\n",
    "\n",
    "        # Create a one-hot vector for question tags\n",
    "        question_tags_index = [self.question_tags[question_id] for question_id in question_ids]\n",
    "        question_tags = np.zeros((len(rows), self.num_tags))\n",
    "        for i in range(len(rows)):\n",
    "            question_tags[i,question_tags_index[i]] = 1\n",
    "\n",
    "        # Receive features from student knowledge\n",
    "        student_tags = jagged_to_fixed_matrix([self.students[user_id].get_features() for user_id in user_ids], self.tags_len, self.num_tags)\n",
    "        return student_tags, \\\n",
    "               np.hstack([question_tags,\n",
    "                          student_no_events,\n",
    "                          tag_difficulties,\n",
    "                          question_difficulties,\n",
    "                          rows[:, self.additional_features_index]]).astype(float), \\\n",
    "               rows[:, t_index['answered_correctly']]\n",
    "    def reset(self):\n",
    "        self.students = {}\n",
    "class Network(nn.Module):\n",
    "  def __init__(self, num_embeddings, extra_input_dim, hidden_1, hidden_2, embedding_dim=20):\n",
    "    super().__init__()\n",
    "    self.embedding = nn.Embedding(num_embeddings=num_embeddings, embedding_dim=embedding_dim)\n",
    "    self.layers = nn.ModuleList([\n",
    "        nn.Linear(extra_input_dim + embedding_dim, hidden_1, bias=False),\n",
    "        nn.BatchNorm1d(hidden_1),\n",
    "        nn.ReLU(),\n",
    "        nn.Linear(hidden_1, hidden_2, bias=False),\n",
    "        nn.BatchNorm1d(hidden_2),\n",
    "        nn.ReLU(),\n",
    "        nn.Linear(hidden_2, 1)\n",
    "    ])\n",
    "  def forward(self, student_indices, features):\n",
    "    k = torch.sum(self.embedding(student_indices), dim=1)\n",
    "    y = torch.cat((k, features), dim=1)\n",
    "    for layer in self.layers:\n",
    "        y = layer(y)\n",
    "    return y"
   ],
   "metadata": {
    "collapsed": false,
    "pycharm": {
     "name": "#%%\n"
    }
   }
  },
  {
   "cell_type": "code",
   "execution_count": 4,
   "outputs": [],
   "source": [
    "# Read large datasets: https://www.kaggle.com/rohanrao/tutorial-on-reading-large-datasets\n",
    "train_dtypes = {\n",
    "    \"row_id\": \"int64\",\n",
    "    \"timestamp\": \"int64\",\n",
    "    \"user_id\": \"int32\",\n",
    "    \"content_id\": \"int16\",\n",
    "    \"content_type_id\": \"boolean\",\n",
    "    \"task_container_id\": \"int16\",\n",
    "    \"user_answer\": \"int8\",\n",
    "    \"answered_correctly\": \"int8\",\n",
    "    \"prior_question_elapsed_time\": \"float32\",\n",
    "    \"prior_question_had_explanation\": \"boolean\"\n",
    "}\n",
    "\n",
    "# why we removed columns:\n",
    "#   row_id: redundant\n",
    "#   task_container_id: tells you what container this question is in\n",
    "#       the max container size is 5 so not really significant\n",
    "#   user_answer: doesnt really affect if the answer is correct\n",
    "#   prior_question_had_explanation: majority of learning (we assume) will be done from lectures, not answer explanations\n",
    "#\n",
    "\n",
    "req_cols = ['timestamp', 'user_id', 'content_id', 'content_type_id', 'answered_correctly', 'prior_question_elapsed_time',\n",
    "            'prior_question_had_explanation']\n",
    "\n",
    "# function to convert the milliseconds to seconds at load time\n",
    "# messes with the dtypes above and doesn't really save time so it is commented (see converters)\n",
    "def mil_to_sec(val):\n",
    "    if val == '':\n",
    "        return np.NaN\n",
    "    return round(int(val)/1000)\n",
    "\n",
    "train_columns = pd.read_csv(dir + 'train.csv', usecols=req_cols, nrows=1).columns\n",
    "t_index = {col: i for (i, col) in enumerate(train_columns)}\n",
    "full = pd.read_csv(dir + 'train.csv', usecols=req_cols, dtype=train_dtypes,\n",
    "                       # converters={'timestamp': mil_to_sec,\n",
    "                       #             'prior_question_elapsed_time': mil_to_sec},\n",
    "                       nrows=NROWS).reset_index(drop=True)\n",
    "# the following lines are kinda cheating since we don't actually have all the data at once\n",
    "# train_df = raw_df[raw_df['content_type_id'] == 0]\n",
    "# lecture_events_df = raw_df[raw_df['content_type_id'] == 1]\n",
    "\n",
    "questions_df = pd.read_csv(dir + 'questions.csv')\n",
    "questions_df['tags'] = questions_df['tags'].apply(lambda x: [int(i) for i in str(x).split() if i != 'nan'])\n",
    "lectures_df = pd.read_csv(dir + 'lectures.csv')\n",
    "example_test_df = pd.read_csv(dir + 'example_test.csv')\n",
    "\n",
    "squestions = full[full['content_type_id'] == 0].reset_index()\n",
    "slectures  = full[full['content_type_id'] == 1].reset_index()"
   ],
   "metadata": {
    "collapsed": false,
    "pycharm": {
     "name": "#%%\n"
    }
   }
  },
  {
   "cell_type": "code",
   "execution_count": 5,
   "outputs": [],
   "source": [
    "student_dataset = StudentDataset(lectures_df, questions_df, full, tags_len=100,\n",
    "                                 additional_features=['timestamp', 'prior_question_elapsed_time', 'prior_question_had_explanation'])"
   ],
   "metadata": {
    "collapsed": false,
    "pycharm": {
     "name": "#%%\n"
    }
   }
  },
  {
   "cell_type": "code",
   "execution_count": 6,
   "outputs": [],
   "source": [
    "###\n",
    "### DATA EXPLORATION\n",
    "###\n",
    "\n",
    "import matplotlib.pyplot as plt"
   ],
   "metadata": {
    "collapsed": false,
    "pycharm": {
     "name": "#%%\n"
    }
   }
  },
  {
   "cell_type": "code",
   "execution_count": 7,
   "outputs": [
    {
     "name": "stdout",
     "output_type": "stream",
     "text": [
      "Average Answer Performance:  65.76468151884538\n"
     ]
    }
   ],
   "source": [
    "print('Average Answer Performance: ', squestions['answered_correctly'].mean() * 100)"
   ],
   "metadata": {
    "collapsed": false,
    "pycharm": {
     "name": "#%%\n"
    }
   }
  },
  {
   "cell_type": "code",
   "execution_count": 8,
   "outputs": [
    {
     "data": {
      "text/plain": "<Figure size 432x288 with 1 Axes>",
      "image/png": "[encoded data removed]"
     },
     "metadata": {
      "needs_background": "light"
     },
     "output_type": "display_data"
    }
   ],
   "source": [
    "lecture_student_mean = squestions[squestions['user_id'].isin(slectures['user_id'].unique())]['answered_correctly'].mean() * 100\n",
    "no_lecture_student_mean = squestions[~squestions['user_id'].isin(slectures['user_id'].unique())]['answered_correctly'].mean() * 100\n",
    "\n",
    "plt.bar(['Students who took Lectures', 'Students who did not take Lectures'],[lecture_student_mean, no_lecture_student_mean])\n",
    "plt.title('Performance comparison of students who took lectures vs did not')\n",
    "plt.ylabel('Percent Score')\n",
    "plt.show()"
   ],
   "metadata": {
    "collapsed": false,
    "pycharm": {
     "name": "#%%\n"
    }
   }
  },
  {
   "cell_type": "code",
   "execution_count": 9,
   "outputs": [
    {
     "data": {
      "text/plain": "<Figure size 432x288 with 1 Axes>",
      "image/png": "[encoded data removed]"
     },
     "metadata": {
      "needs_background": "light"
     },
     "output_type": "display_data"
    },
    {
     "data": {
      "text/plain": "<Figure size 432x288 with 1 Axes>",
      "image/png": "[encoded data removed]"
     },
     "metadata": {
      "needs_background": "light"
     },
     "output_type": "display_data"
    }
   ],
   "source": [
    "tags, tag_means = zip(*student_dataset.tag_means.items())\n",
    "\n",
    "\n",
    "plt.hist(tag_means, bins=10)\n",
    "plt.title('Question Tag Average Performance Histogram')\n",
    "plt.xlabel('Percent Score Among Students')\n",
    "plt.ylabel('Bin Size')\n",
    "plt.show()\n",
    "\n",
    "plt.scatter(np.arange(0,len(tag_means)), np.sort(tag_means))\n",
    "plt.gca().xaxis.set_visible(False)\n",
    "plt.title('Tags Ordered By Average Student Performance on Tags')\n",
    "plt.ylabel('Percent Score Among Students')\n",
    "\n",
    "del tag_means"
   ],
   "metadata": {
    "collapsed": false,
    "pycharm": {
     "name": "#%%\n"
    }
   }
  },
  {
   "cell_type": "code",
   "execution_count": 10,
   "outputs": [
    {
     "data": {
      "text/plain": "Text(0.5, 1.0, 'Student Relative Timestamp Histogram')"
     },
     "execution_count": 10,
     "metadata": {},
     "output_type": "execute_result"
    },
    {
     "data": {
      "text/plain": "<Figure size 432x288 with 1 Axes>",
      "image/png": "[encoded data removed]"
     },
     "metadata": {
      "needs_background": "light"
     },
     "output_type": "display_data"
    }
   ],
   "source": [
    "plt.hist(full['timestamp'], bins=30)\n",
    "plt.title('Student Relative Timestamp Histogram')"
   ],
   "metadata": {
    "collapsed": false,
    "pycharm": {
     "name": "#%%\n"
    }
   }
  },
  {
   "cell_type": "code",
   "execution_count": 11,
   "outputs": [
    {
     "data": {
      "text/plain": "<Figure size 432x288 with 1 Axes>",
      "image/png": "[encoded data removed]"
     },
     "metadata": {
      "needs_background": "light"
     },
     "output_type": "display_data"
    }
   ],
   "source": [
    "squestions['timestamp_int'] = squestions['timestamp'] // 1000 // 60 // 60 // 24 // 7\n",
    "grp = squestions.groupby('timestamp_int')['answered_correctly'].mean() * 100\n",
    "squestions = squestions.drop(columns='timestamp_int')\n",
    "plt.scatter(grp.index, grp)\n",
    "plt.title('Performance Given Number of Weeks Put In')\n",
    "plt.xlabel('Number of weeks')\n",
    "plt.ylabel('Percent Score')\n",
    "\n",
    "del grp"
   ],
   "metadata": {
    "collapsed": false,
    "pycharm": {
     "name": "#%%\n"
    }
   }
  },
  {
   "cell_type": "code",
   "execution_count": 12,
   "outputs": [
    {
     "data": {
      "text/plain": "<Figure size 432x288 with 1 Axes>",
      "image/png": "[encoded data removed]"
     },
     "metadata": {
      "needs_background": "light"
     },
     "output_type": "display_data"
    }
   ],
   "source": [
    "activity_grp = full.groupby(['user_id']).agg({'user_id': 'count', 'answered_correctly': 'mean'})\n",
    "plt.scatter(activity_grp['user_id'], activity_grp['answered_correctly'])\n",
    "plt.title('Student Performance Given Number of Events')\n",
    "plt.xlabel('Number of Events')\n",
    "plt.ylabel('Percent Score')\n",
    "plt.show()\n",
    "\n",
    "del activity_grp"
   ],
   "metadata": {
    "collapsed": false,
    "pycharm": {
     "name": "#%%\n"
    }
   }
  },
  {
   "cell_type": "code",
   "execution_count": 13,
   "outputs": [],
   "source": [
    "# Clear up some memory\n",
    "del squestions\n",
    "del slectures"
   ],
   "metadata": {
    "collapsed": false,
    "pycharm": {
     "name": "#%%\n"
    }
   }
  },
  {
   "cell_type": "code",
   "execution_count": 14,
   "outputs": [],
   "source": [
    "# Data Preparation\n",
    "full['prior_question_elapsed_time'] = full['prior_question_elapsed_time'].fillna(0)\n",
    "full['prior_question_had_explanation'] = full['prior_question_had_explanation'].fillna(False)\n",
    "\n",
    "# Transform timestamps into approx. month interval timestamps\n",
    "full['timestamp'] = (full['timestamp'] // 1000 // 60 // 60 // 24 // 30).astype(np.uint16)\n",
    "\n",
    "# Standardize relevant data\n",
    "for col in ['timestamp', 'prior_question_elapsed_time']:\n",
    "    u = full[col].mean()\n",
    "    std = full[col].std()\n",
    "    full[col] = ((full[col] - u) / std).fillna(u)"
   ],
   "metadata": {
    "collapsed": false,
    "pycharm": {
     "name": "#%%\n"
    }
   }
  },
  {
   "cell_type": "code",
   "execution_count": 15,
   "outputs": [],
   "source": [
    "# We instead split on user_ids instead of rows, this makes more sense when the history of a user matters.\n",
    "user_ids = full['user_id'].unique()\n",
    "np.random.shuffle(user_ids)\n",
    "valid_ids, train_ids = user_ids[0: int(len(user_ids) * 0.1)], user_ids[int(len(user_ids) * 0.1): len(user_ids)]\n",
    "train = full[full['user_id'].isin(train_ids)]\n",
    "valid = full[full['user_id'].isin(valid_ids)]"
   ],
   "metadata": {
    "collapsed": false,
    "pycharm": {
     "name": "#%%\n"
    }
   }
  },
  {
   "cell_type": "code",
   "execution_count": 16,
   "outputs": [],
   "source": [
    "a, f, b = student_dataset.get_features(train[0:1].to_numpy())\n",
    "extra_input_dim = len(f[0])\n",
    "num_embeddings = student_dataset.num_tags + 1"
   ],
   "metadata": {
    "collapsed": false,
    "pycharm": {
     "name": "#%%\n"
    }
   }
  },
  {
   "cell_type": "code",
   "execution_count": 17,
   "outputs": [],
   "source": [
    "def train_model(student_dataset, train, valid, num_epochs=10, batch_size=512,\n",
    "                lr=0.00001, wd=5e-5, tags_len=100, embedding_dim=10):\n",
    "    print('Model Parameters: num_epochs=', num_epochs, ', batch_size=', 512, ', lr=',lr, ', wd=', wd,\n",
    "          ', tags_len=',tags_len, 'embedding_dim=', embedding_dim)\n",
    "    device = torch.device('cuda' if torch.cuda.is_available() else 'cpu')\n",
    "    model = Network(student_dataset.num_tags + 1, extra_input_dim, 64, 32, embedding_dim=embedding_dim).to(device)\n",
    "    epoch_train_loss, epoch_train_accuracy = [], []\n",
    "    epoch_valid_loss, epoch_valid_accuracy, epoch_valid_fpr, epoch_valid_tpr = [], [], [], []\n",
    "    loss_func = nn.BCEWithLogitsLoss()\n",
    "    optimizer = optim.Adam(model.parameters(), lr=lr, weight_decay=wd)\n",
    "    epoch = 0\n",
    "    for epoch_i in range(epoch + num_epochs):\n",
    "        epoch = epoch_i\n",
    "        tq = tqdm(create_batch_iter(len(train), batch_size))\n",
    "        student_dataset.tags_len = tags_len\n",
    "\n",
    "        # Average Loss Variables\n",
    "        total_loss = 0\n",
    "        current_len = 0\n",
    "        total_correct = 0\n",
    "        student_dataset.reset()\n",
    "\n",
    "        for i,j in tq:\n",
    "            student_tags, f, labels = student_dataset.get_features(train[i:j].to_numpy())\n",
    "            student_tags = torch.tensor(student_tags).long().to(device)\n",
    "            n = len(f)\n",
    "\n",
    "            f = torch.tensor(f).view(n, len(f[0])).float().to(device)\n",
    "\n",
    "            labels = torch.tensor(labels.astype(np.bool)).view(n, 1).float().to(device)\n",
    "\n",
    "            predictions = model(student_tags, f)\n",
    "\n",
    "            loss = loss_func(predictions, labels.float())\n",
    "            optimizer.zero_grad()\n",
    "            loss.backward()\n",
    "            optimizer.step()\n",
    "\n",
    "            current_len += n\n",
    "            total_loss += loss.item() * n\n",
    "\n",
    "            pred = torch.sigmoid(predictions).cpu().view(n).detach().numpy()\n",
    "            tgt = labels.cpu().view(n).detach().numpy()\n",
    "            total_correct += sum(np.round(pred) == tgt)\n",
    "            tq.set_description('EPOCH: ' + str(epoch) + ', Avg. Loss: ' + str(np.round(total_loss / current_len, 4)) + ', Train Acc:'  + \\\n",
    "                               str(np.round(total_correct / current_len * 100, 2)) + '%')\n",
    "\n",
    "        epoch_train_loss.append(total_loss/ current_len)\n",
    "        epoch_train_accuracy.append(total_correct / current_len * 100)\n",
    "\n",
    "        tq = tqdm(create_batch_iter(len(valid), BATCH_SIZE))\n",
    "        total_loss = 0\n",
    "        total_correct = 0\n",
    "        current_len = 0\n",
    "\n",
    "        preds = []\n",
    "        tgts = []\n",
    "        with torch.no_grad():\n",
    "            for i,j in tq:\n",
    "                student_tags, f, labels = student_dataset.get_features(valid[i:j].to_numpy())\n",
    "                student_tags = torch.tensor(student_tags).long().to(device)\n",
    "                n = len(f)\n",
    "\n",
    "                f = torch.tensor(f).view(n, len(f[0])).float().to(device)\n",
    "\n",
    "                labels = torch.tensor(labels.astype(np.bool)).view(n, 1).float().to(device)\n",
    "\n",
    "                predictions = model(student_tags, f)\n",
    "\n",
    "                loss = loss_func(predictions, labels.float())\n",
    "\n",
    "\n",
    "                current_len += n\n",
    "                total_loss += loss.item() * n\n",
    "\n",
    "                pred = torch.sigmoid(predictions).cpu().view(n).detach().flatten().numpy()\n",
    "                tgt = labels.cpu().view(n).detach().flatten().numpy()\n",
    "                preds.append(pred)\n",
    "                tgts.append(tgt)\n",
    "                total_correct += sum(np.round(pred) == np.array(tgt))\n",
    "                tq.set_description('EPOCH: ' + str(epoch) + ', Avg. Loss: ' + str(np.round(total_loss / current_len, 4)) + ', Valid Acc: '  + \\\n",
    "                                   str(np.round(total_correct / current_len * 100, 2)) + '%')\n",
    "\n",
    "        epoch_valid_loss.append(total_loss/ current_len)\n",
    "        epoch_valid_accuracy.append(total_correct / current_len * 100)\n",
    "        preds = [p for b in preds for p in b]\n",
    "        tgts = [p for b in tgts for p in b]\n",
    "        fpr, tpr, _ = roc_curve(tgts, preds)\n",
    "        epoch_valid_fpr = fpr\n",
    "        epoch_valid_tpr = tpr\n",
    "        print('Valid AUC: ', auc(fpr, tpr))\n",
    "\n",
    "    return model, epoch_valid_loss, epoch_valid_accuracy, epoch_valid_fpr, epoch_valid_tpr"
   ],
   "metadata": {
    "collapsed": false,
    "pycharm": {
     "name": "#%%\n"
    }
   }
  },
  {
   "cell_type": "code",
   "execution_count": 18,
   "outputs": [],
   "source": [
    "params = [\n",
    "    (512,),\n",
    "    (1e-4, 1e-5),\n",
    "    (1e-5,),\n",
    "    (50, 100, 188),\n",
    "    (10, 50, 100)\n",
    "]\n",
    "params_iter = [(a,b,c,d,e) for a in params[0] for b in params[1] for c in params[2] for d in params[3] for e in params[4]]"
   ],
   "metadata": {
    "collapsed": false,
    "pycharm": {
     "name": "#%%\n"
    }
   }
  },
  {
   "cell_type": "code",
   "execution_count": 19,
   "outputs": [],
   "source": [
    "def grid_search(student_dataset, train, valid, params_iter):\n",
    "    from matplotlib import rc\n",
    "    font = {'family' : 'normal',\n",
    "            'size'   : 11}\n",
    "\n",
    "    rc('font', **font)\n",
    "\n",
    "    plt.subplots(1, figsize=(20,20))\n",
    "    plt.title('Receiver Operating Characteristic')\n",
    "\n",
    "    evl_list = []\n",
    "    eva_list = []\n",
    "    auc_list = []\n",
    "    labels = []\n",
    "    for i, args in enumerate(params_iter):\n",
    "        print('CURRENT MODEL: ', i)\n",
    "        _, evl, eva, evfpr, evtpr = train_model(student_dataset, train, valid, NUM_EPOCHS, *args)\n",
    "        evl_list.append(evl)\n",
    "        eva_list.append(eva)\n",
    "        auc_list.append(auc(evfpr, evtpr))\n",
    "        labels.append('batch_size=' + str(args[0]) + ',lr=' + str(args[1]) + ',tags_len=' + str(args[3]) + ',embedding_dim=' + str(args[4]))\n",
    "        plt.plot(evfpr, evtpr, label=labels[i])\n",
    "    plt.plot([0, 1], ls=\"--\")\n",
    "    plt.plot([0, 0], [1, 0] , c=\".7\")\n",
    "    plt.plot([1, 1] , c=\".7\")\n",
    "    plt.legend()\n",
    "    plt.show()\n",
    "\n",
    "\n",
    "\n",
    "    plt.subplots(1, figsize=(20,20))\n",
    "    plt.title('Loss Curve')\n",
    "    for i in range(len(evl_list)):\n",
    "        plt.plot(list(range(len(evl_list[i]))), evl_list[i], label=labels[i])\n",
    "    plt.ylabel('Log Binary Cross Entropy Loss')\n",
    "    plt.xlabel('Epoch')\n",
    "    plt.show()\n",
    "\n",
    "    plt.subplots(1, figsize=(20,20))\n",
    "    plt.title('Valid Accuracy Curve')\n",
    "    for j in range(16):\n",
    "        for i in range(len(evl_list)):\n",
    "            plt.plot(list(range(len(eva_list[i]))), eva_list[i], label=labels[i])\n",
    "    plt.ylabel('Accuracy')\n",
    "    plt.xlabel('Epoch')\n",
    "    plt.show()\n",
    "\n",
    "    auc_list = np.array(auc_list)\n",
    "    for i,auci in enumerate(auc_list):\n",
    "        print(labels[i], ' AUC: ', auci)\n",
    "\n",
    "    print('Best model is ', np.argmax(auc_list), ', ', labels[np.argmax(auc_list)])\n",
    "\n",
    "    return evl_list, eva_list, auc_list, labels"
   ],
   "metadata": {
    "collapsed": false,
    "pycharm": {
     "name": "#%%\n"
    }
   }
  },
  {
   "cell_type": "code",
   "execution_count": 20,
   "outputs": [],
   "source": [
    "# grid_search(student_dataset, train, valid, params_iter)"
   ],
   "metadata": {
    "collapsed": false,
    "pycharm": {
     "name": "#%%\n"
    }
   }
  },
  {
   "cell_type": "code",
   "execution_count": 21,
   "outputs": [
    {
     "name": "stdout",
     "output_type": "stream",
     "text": [
      "Model Parameters: num_epochs= 20 , batch_size= 512 , lr= 0.0001 , wd= 1e-05 , tags_len= 50 embedding_dim= 10\n",
      "Valid AUC:  0.7265939587111365\n",
      "Valid AUC:  0.7293171619520558\n",
      "Valid AUC:  0.7304951625659077\n",
      "Valid AUC:  0.7318552839118408\n",
      "Valid AUC:  0.7325531440379826\n",
      "Valid AUC:  0.7332168470120748\n",
      "Valid AUC:  0.733962236195078\n",
      "Valid AUC:  0.7343246091136347\n",
      "Valid AUC:  0.7348640766957673\n",
      "Valid AUC:  0.7352924997157027\n",
      "Valid AUC:  0.7356812321272659\n",
      "Valid AUC:  0.7359521591123444\n",
      "Valid AUC:  0.73637786249858\n",
      "Valid AUC:  0.7366130157424854\n",
      "Valid AUC:  0.7368767675865413\n",
      "Valid AUC:  0.7371899860849137\n",
      "Valid AUC:  0.7375083243254684\n",
      "Valid AUC:  0.7376711420536678\n",
      "Valid AUC:  0.7379506215751823\n",
      "Valid AUC:  0.7381518665025146\n"
     ]
    },
    {
     "name": "stderr",
     "output_type": "stream",
     "text": [
      "EPOCH: 0, Avg. Loss: 0.5723, Train Acc:70.24%: 100%|██████████| 52711/52711 [16:03<00:00, 54.70it/s]\n",
      "EPOCH: 0, Avg. Loss: 0.5664, Valid Acc: 70.75%: 100%|██████████| 5884/5884 [01:36<00:00, 61.09it/s]\n",
      "EPOCH: 1, Avg. Loss: 0.5656, Train Acc:70.77%: 100%|██████████| 52711/52711 [16:08<00:00, 54.44it/s]\n",
      "EPOCH: 1, Avg. Loss: 0.5642, Valid Acc: 70.88%: 100%|██████████| 5884/5884 [01:40<00:00, 58.78it/s]\n",
      "EPOCH: 2, Avg. Loss: 0.5639, Train Acc:70.9%: 100%|██████████| 52711/52711 [16:33<00:00, 53.04it/s] \n",
      "EPOCH: 2, Avg. Loss: 0.5632, Valid Acc: 70.98%: 100%|██████████| 5884/5884 [01:39<00:00, 59.11it/s]\n",
      "EPOCH: 3, Avg. Loss: 0.5627, Train Acc:70.99%: 100%|██████████| 52711/52711 [17:25<00:00, 50.40it/s]\n",
      "EPOCH: 3, Avg. Loss: 0.5621, Valid Acc: 71.07%: 100%|██████████| 5884/5884 [01:42<00:00, 57.57it/s]\n",
      "EPOCH: 4, Avg. Loss: 0.5618, Train Acc:71.05%: 100%|██████████| 52711/52711 [17:49<00:00, 49.30it/s]\n",
      "EPOCH: 4, Avg. Loss: 0.5615, Valid Acc: 71.12%: 100%|██████████| 5884/5884 [01:45<00:00, 55.95it/s]\n",
      "EPOCH: 5, Avg. Loss: 0.5611, Train Acc:71.1%: 100%|██████████| 52711/52711 [17:20<00:00, 50.68it/s] \n",
      "EPOCH: 5, Avg. Loss: 0.5609, Valid Acc: 71.15%: 100%|██████████| 5884/5884 [01:45<00:00, 55.83it/s]\n",
      "EPOCH: 6, Avg. Loss: 0.5605, Train Acc:71.15%: 100%|██████████| 52711/52711 [17:58<00:00, 48.89it/s]\n",
      "EPOCH: 6, Avg. Loss: 0.5603, Valid Acc: 71.21%: 100%|██████████| 5884/5884 [01:51<00:00, 52.85it/s]\n",
      "EPOCH: 7, Avg. Loss: 0.5599, Train Acc:71.19%: 100%|██████████| 52711/52711 [18:35<00:00, 47.24it/s]\n",
      "EPOCH: 7, Avg. Loss: 0.56, Valid Acc: 71.23%: 100%|██████████| 5884/5884 [01:46<00:00, 55.51it/s]  \n",
      "EPOCH: 8, Avg. Loss: 0.5594, Train Acc:71.23%: 100%|██████████| 52711/52711 [17:50<00:00, 49.25it/s]\n",
      "EPOCH: 8, Avg. Loss: 0.5594, Valid Acc: 71.27%: 100%|██████████| 5884/5884 [01:58<00:00, 49.52it/s]\n",
      "EPOCH: 9, Avg. Loss: 0.559, Train Acc:71.25%: 100%|██████████| 52711/52711 [18:11<00:00, 48.29it/s] \n",
      "EPOCH: 9, Avg. Loss: 0.5591, Valid Acc: 71.29%: 100%|██████████| 5884/5884 [01:48<00:00, 54.26it/s]\n",
      "EPOCH: 10, Avg. Loss: 0.5586, Train Acc:71.28%: 100%|██████████| 52711/52711 [18:11<00:00, 48.30it/s]\n",
      "EPOCH: 10, Avg. Loss: 0.5587, Valid Acc: 71.32%: 100%|██████████| 5884/5884 [01:49<00:00, 53.88it/s]\n",
      "EPOCH: 11, Avg. Loss: 0.5582, Train Acc:71.31%: 100%|██████████| 52711/52711 [17:53<00:00, 49.08it/s]\n",
      "EPOCH: 11, Avg. Loss: 0.5584, Valid Acc: 71.34%: 100%|██████████| 5884/5884 [01:54<00:00, 51.23it/s]\n",
      "EPOCH: 12, Avg. Loss: 0.5578, Train Acc:71.33%: 100%|██████████| 52711/52711 [18:11<00:00, 48.28it/s]\n",
      "EPOCH: 12, Avg. Loss: 0.5581, Valid Acc: 71.36%: 100%|██████████| 5884/5884 [01:54<00:00, 51.27it/s]\n",
      "EPOCH: 13, Avg. Loss: 0.5575, Train Acc:71.35%: 100%|██████████| 52711/52711 [19:36<00:00, 44.80it/s]\n",
      "EPOCH: 13, Avg. Loss: 0.5578, Valid Acc: 71.37%: 100%|██████████| 5884/5884 [01:55<00:00, 51.05it/s]\n",
      "EPOCH: 14, Avg. Loss: 0.5572, Train Acc:71.37%: 100%|██████████| 52711/52711 [18:25<00:00, 47.68it/s]\n",
      "EPOCH: 14, Avg. Loss: 0.5576, Valid Acc: 71.39%: 100%|██████████| 5884/5884 [01:50<00:00, 53.35it/s]\n",
      "EPOCH: 15, Avg. Loss: 0.5569, Train Acc:71.39%: 100%|██████████| 52711/52711 [18:16<00:00, 48.09it/s]\n",
      "EPOCH: 15, Avg. Loss: 0.5573, Valid Acc: 71.4%: 100%|██████████| 5884/5884 [01:49<00:00, 53.63it/s] \n",
      "EPOCH: 16, Avg. Loss: 0.5566, Train Acc:71.41%: 100%|██████████| 52711/52711 [18:34<00:00, 47.30it/s]\n",
      "EPOCH: 16, Avg. Loss: 0.5569, Valid Acc: 71.43%: 100%|██████████| 5884/5884 [01:52<00:00, 52.26it/s]\n",
      "EPOCH: 17, Avg. Loss: 0.5563, Train Acc:71.42%: 100%|██████████| 52711/52711 [18:34<00:00, 47.28it/s]\n",
      "EPOCH: 17, Avg. Loss: 0.5567, Valid Acc: 71.45%: 100%|██████████| 5884/5884 [01:48<00:00, 54.26it/s]\n",
      "EPOCH: 18, Avg. Loss: 0.556, Train Acc:71.44%: 100%|██████████| 52711/52711 [18:23<00:00, 47.78it/s]    \n",
      "EPOCH: 18, Avg. Loss: 0.5564, Valid Acc: 71.45%: 100%|██████████| 5884/5884 [01:36<00:00, 60.81it/s]\n",
      "EPOCH: 19, Avg. Loss: 0.5558, Train Acc:71.45%: 100%|██████████| 52711/52711 [15:53<00:00, 55.30it/s]\n",
      "EPOCH: 19, Avg. Loss: 0.5562, Valid Acc: 71.46%: 100%|██████████| 5884/5884 [01:37<00:00, 60.61it/s]\n"
     ]
    }
   ],
   "source": [
    "model, evl, eva, evfpr, evtpr = train_model(student_dataset, train, valid, NUM_EPOCHS, BATCH_SIZE, LEARNING_RATE,\n",
    "                                            WEIGHT_DECAY, TAGS_LEN, EMBEDDING_DIM)"
   ],
   "metadata": {
    "collapsed": false,
    "pycharm": {
     "name": "#%%\n"
    }
   }
  },
  {
   "cell_type": "code",
   "execution_count": 22,
   "outputs": [],
   "source": [
    "torch.save({\n",
    "    'model_state_dict': model.state_dict(),\n",
    "    'epoch_valid_loss': evl,\n",
    "    'epoch_valid_accuracy': eva,\n",
    "    'epoch_valid_fpr': evfpr,\n",
    "    'epoch_valid_tpr': evtpr\n",
    "}, 'model_30M.md')"
   ],
   "metadata": {
    "collapsed": false,
    "pycharm": {
     "name": "#%%\n"
    }
   }
  },
  {
   "cell_type": "code",
   "execution_count": 10,
   "outputs": [],
   "source": [
    "load_dict = torch.load('model_30M.md')\n",
    "device = torch.device('cuda' if torch.cuda.is_available() else 'cpu')\n",
    "model = Network(189, 189 + 5, 64, 32, embedding_dim=EMBEDDING_DIM).to(device)\n",
    "model.load_state_dict(load_dict['model_state_dict'])\n",
    "evl = load_dict['epoch_valid_loss']\n",
    "eva = load_dict['epoch_valid_accuracy']\n",
    "evfpr = load_dict['epoch_valid_fpr']\n",
    "evtpr = load_dict['epoch_valid_tpr']"
   ],
   "metadata": {
    "collapsed": false,
    "pycharm": {
     "name": "#%%\n"
    }
   }
  },
  {
   "cell_type": "code",
   "execution_count": 12,
   "outputs": [
    {
     "data": {
      "text/plain": "<Figure size 720x720 with 1 Axes>",
      "image/png": "[encoded data removed]"
     },
     "metadata": {
      "needs_background": "light"
     },
     "output_type": "display_data"
    },
    {
     "data": {
      "text/plain": "<Figure size 720x720 with 1 Axes>",
      "image/png": "[encoded data removed]"
     },
     "metadata": {
      "needs_background": "light"
     },
     "output_type": "display_data"
    },
    {
     "name": "stdout",
     "output_type": "stream",
     "text": [
      "Valid AUC:  0.7381518665025146\n"
     ]
    }
   ],
   "source": [
    "import matplotlib.pyplot as plt\n",
    "font = {'family' : 'normal',\n",
    "        'size'   : 16}\n",
    "\n",
    "from matplotlib import rc\n",
    "rc('font', **font)\n",
    "plt.subplots(1, figsize=(10,10))\n",
    "plt.title('Valid Accuracy Curve (Dataset Size = 30 Million)')\n",
    "plt.plot(list(range(len(eva))), eva)\n",
    "plt.ylabel('Accuracy')\n",
    "plt.xlabel('Epoch')\n",
    "plt.show()\n",
    "\n",
    "plt.subplots(1, figsize=(10,10))\n",
    "plt.title('Valid Loss Curve (Dataset Size = 30 Million)')\n",
    "plt.plot(list(range(len(evl))), evl)\n",
    "plt.ylabel('Binary Cross Entropy Loss')\n",
    "plt.xlabel('Epoch')\n",
    "plt.show()\n",
    "\n",
    "print('Valid AUC: ', auc(evfpr, evtpr))"
   ],
   "metadata": {
    "collapsed": false,
    "pycharm": {
     "name": "#%%\n"
    }
   }
  }
 ],
 "metadata": {
  "kernelspec": {
   "display_name": "Python 3",
   "language": "python",
   "name": "python3"
  },
  "language_info": {
   "codemirror_mode": {
    "name": "ipython",
    "version": 2
   },
   "file_extension": ".py",
   "mimetype": "text/x-python",
   "name": "python",
   "nbconvert_exporter": "python",
   "pygments_lexer": "ipython2",
   "version": "2.7.6"
  }
 },
 "nbformat": 4,
 "nbformat_minor": 0
}