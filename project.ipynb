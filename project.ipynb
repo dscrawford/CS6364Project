{
 "cells": [
  {
   "cell_type": "code",
   "execution_count": 3,
   "metadata": {
    "collapsed": true
   },
   "outputs": [],
   "source": [
    "import pandas as pd\n",
    "import numpy as np"
   ]
  },
  {
   "cell_type": "code",
   "execution_count": 6,
   "outputs": [],
   "source": [
    "train_df = pd.read_csv('train.csv', nrows=10000)\n",
    "questions_df = pd.read_csv('questions.csv')\n",
    "lectures_df = pd.read_csv('lectures.csv')\n",
    "example_test_df = pd.read_csv('example_test.csv')"
   ],
   "metadata": {
    "collapsed": false,
    "pycharm": {
     "name": "#%%\n"
    }
   }
  },
  {
   "cell_type": "code",
   "execution_count": 17,
   "outputs": [
    {
     "data": {
      "text/plain": "      row_id   timestamp  user_id  content_id  content_type_id  \\\n89        89      653762     2746        6808                1   \n117      117    10183847     5382       16736                1   \n212      212  1424348597     5382       30207                1   \n216      216  1425557777     5382       18545                1   \n295      295   405813029     8623       10540                1   \n...      ...         ...      ...         ...              ...   \n9903    9903  1990930333    91216       18091                1   \n9914    9914  1996114890    91216       13605                1   \n9928    9928  1997374102    91216       22034                1   \n9938    9938  1997886262    91216        7949                1   \n9973    9973  2159957926    91216       26335                1   \n\n      task_container_id  user_answer  answered_correctly  \\\n89                   14           -1                  -1   \n117                  21           -1                  -1   \n212                 104           -1                  -1   \n216                 121           -1                  -1   \n295                  59           -1                  -1   \n...                 ...          ...                 ...   \n9903                683           -1                  -1   \n9914                694           -1                  -1   \n9928                708           -1                  -1   \n9938                718           -1                  -1   \n9973                753           -1                  -1   \n\n      prior_question_elapsed_time prior_question_had_explanation  \n89                            NaN                          False  \n117                           NaN                          False  \n212                           NaN                          False  \n216                           NaN                          False  \n295                           NaN                          False  \n...                           ...                            ...  \n9903                          NaN                          False  \n9914                          NaN                          False  \n9928                          NaN                          False  \n9938                          NaN                          False  \n9973                          NaN                          False  \n\n[237 rows x 10 columns]",
      "text/html": "<div>\n<style scoped>\n    .dataframe tbody tr th:only-of-type {\n        vertical-align: middle;\n    }\n\n    .dataframe tbody tr th {\n        vertical-align: top;\n    }\n\n    .dataframe thead th {\n        text-align: right;\n    }\n</style>\n<table border=\"1\" class=\"dataframe\">\n  <thead>\n    <tr style=\"text-align: right;\">\n      <th></th>\n      <th>row_id</th>\n      <th>timestamp</th>\n      <th>user_id</th>\n      <th>content_id</th>\n      <th>content_type_id</th>\n      <th>task_container_id</th>\n      <th>user_answer</th>\n      <th>answered_correctly</th>\n      <th>prior_question_elapsed_time</th>\n      <th>prior_question_had_explanation</th>\n    </tr>\n  </thead>\n  <tbody>\n    <tr>\n      <th>89</th>\n      <td>89</td>\n      <td>653762</td>\n      <td>2746</td>\n      <td>6808</td>\n      <td>1</td>\n      <td>14</td>\n      <td>-1</td>\n      <td>-1</td>\n      <td>NaN</td>\n      <td>False</td>\n    </tr>\n    <tr>\n      <th>117</th>\n      <td>117</td>\n      <td>10183847</td>\n      <td>5382</td>\n      <td>16736</td>\n      <td>1</td>\n      <td>21</td>\n      <td>-1</td>\n      <td>-1</td>\n      <td>NaN</td>\n      <td>False</td>\n    </tr>\n    <tr>\n      <th>212</th>\n      <td>212</td>\n      <td>1424348597</td>\n      <td>5382</td>\n      <td>30207</td>\n      <td>1</td>\n      <td>104</td>\n      <td>-1</td>\n      <td>-1</td>\n      <td>NaN</td>\n      <td>False</td>\n    </tr>\n    <tr>\n      <th>216</th>\n      <td>216</td>\n      <td>1425557777</td>\n      <td>5382</td>\n      <td>18545</td>\n      <td>1</td>\n      <td>121</td>\n      <td>-1</td>\n      <td>-1</td>\n      <td>NaN</td>\n      <td>False</td>\n    </tr>\n    <tr>\n      <th>295</th>\n      <td>295</td>\n      <td>405813029</td>\n      <td>8623</td>\n      <td>10540</td>\n      <td>1</td>\n      <td>59</td>\n      <td>-1</td>\n      <td>-1</td>\n      <td>NaN</td>\n      <td>False</td>\n    </tr>\n    <tr>\n      <th>...</th>\n      <td>...</td>\n      <td>...</td>\n      <td>...</td>\n      <td>...</td>\n      <td>...</td>\n      <td>...</td>\n      <td>...</td>\n      <td>...</td>\n      <td>...</td>\n      <td>...</td>\n    </tr>\n    <tr>\n      <th>9903</th>\n      <td>9903</td>\n      <td>1990930333</td>\n      <td>91216</td>\n      <td>18091</td>\n      <td>1</td>\n      <td>683</td>\n      <td>-1</td>\n      <td>-1</td>\n      <td>NaN</td>\n      <td>False</td>\n    </tr>\n    <tr>\n      <th>9914</th>\n      <td>9914</td>\n      <td>1996114890</td>\n      <td>91216</td>\n      <td>13605</td>\n      <td>1</td>\n      <td>694</td>\n      <td>-1</td>\n      <td>-1</td>\n      <td>NaN</td>\n      <td>False</td>\n    </tr>\n    <tr>\n      <th>9928</th>\n      <td>9928</td>\n      <td>1997374102</td>\n      <td>91216</td>\n      <td>22034</td>\n      <td>1</td>\n      <td>708</td>\n      <td>-1</td>\n      <td>-1</td>\n      <td>NaN</td>\n      <td>False</td>\n    </tr>\n    <tr>\n      <th>9938</th>\n      <td>9938</td>\n      <td>1997886262</td>\n      <td>91216</td>\n      <td>7949</td>\n      <td>1</td>\n      <td>718</td>\n      <td>-1</td>\n      <td>-1</td>\n      <td>NaN</td>\n      <td>False</td>\n    </tr>\n    <tr>\n      <th>9973</th>\n      <td>9973</td>\n      <td>2159957926</td>\n      <td>91216</td>\n      <td>26335</td>\n      <td>1</td>\n      <td>753</td>\n      <td>-1</td>\n      <td>-1</td>\n      <td>NaN</td>\n      <td>False</td>\n    </tr>\n  </tbody>\n</table>\n<p>237 rows × 10 columns</p>\n</div>"
     },
     "execution_count": 17,
     "metadata": {},
     "output_type": "execute_result"
    }
   ],
   "source": [
    "train_df[train_df['content_type_id'] == 1]\n",
    "# "
   ],
   "metadata": {
    "collapsed": false,
    "pycharm": {
     "name": "#%%\n"
    }
   }
  }
 ],
 "metadata": {
  "kernelspec": {
   "display_name": "Python 3",
   "language": "python",
   "name": "python3"
  },
  "language_info": {
   "codemirror_mode": {
    "name": "ipython",
    "version": 2
   },
   "file_extension": ".py",
   "mimetype": "text/x-python",
   "name": "python",
   "nbconvert_exporter": "python",
   "pygments_lexer": "ipython2",
   "version": "2.7.6"
  }
 },
 "nbformat": 4,
 "nbformat_minor": 0
}